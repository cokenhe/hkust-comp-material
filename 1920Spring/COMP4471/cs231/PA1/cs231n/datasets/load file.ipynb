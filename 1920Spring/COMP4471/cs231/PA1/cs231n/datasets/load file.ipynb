{
 "cells": [
  {
   "cell_type": "code",
   "execution_count": 2,
   "metadata": {},
   "outputs": [
    {
     "name": "stdout",
     "output_type": "stream",
     "text": [
      "Downloading: cifar-10-python.tar.gz Bytes: 170498071\n",
      "Extracting: cifar-10-python.tar.gz\n"
     ]
    }
   ],
   "source": [
    "# %load get_datasets.py\n",
    "from __future__ import print_function\n",
    "from six.moves.urllib import request\n",
    "import tarfile  \n",
    "import os\n",
    "\n",
    "url = \"http://www.cs.toronto.edu/~kriz/cifar-10-python.tar.gz\"\n",
    "\n",
    "file_name = url.split('/')[-1]\n",
    "u = request.urlopen(url)\n",
    "f = open(file_name, 'wb')\n",
    "meta = u.info()\n",
    "file_size = int(meta.get(\"Content-Length\"))\n",
    "print(\"Downloading: %s Bytes: %s\" % (file_name, file_size))\n",
    "\n",
    "file_size_dl = 0\n",
    "block_sz = 1048576\n",
    "while True:\n",
    "    buffer = u.read(block_sz)\n",
    "    if not buffer:\n",
    "        break\n",
    "\n",
    "    file_size_dl += len(buffer)\n",
    "    f.write(buffer)\n",
    "    status = \"%d  [%3.2f%%]\\r\" % (file_size_dl, file_size_dl * 100. / file_size)\n",
    "#    status = status + chr(8)*(len(status)+1)\n",
    "    print(status,end='')\n",
    "\n",
    "f.close()\n",
    "\n",
    "print('Extracting: %s' % file_name)\n",
    "t = tarfile.open(file_name, \"r:*\")  \n",
    "t.extractall(path = '.')  \n",
    "t.close()  \n",
    "\n",
    "os.remove(file_name)"
   ]
  },
  {
   "cell_type": "code",
   "execution_count": null,
   "metadata": {},
   "outputs": [],
   "source": []
  }
 ],
 "metadata": {
  "kernelspec": {
   "display_name": "Python 3",
   "language": "python",
   "name": "python3"
  },
  "language_info": {
   "codemirror_mode": {
    "name": "ipython",
    "version": 3
   },
   "file_extension": ".py",
   "mimetype": "text/x-python",
   "name": "python",
   "nbconvert_exporter": "python",
   "pygments_lexer": "ipython3",
   "version": "3.6.6"
  }
 },
 "nbformat": 4,
 "nbformat_minor": 2
}
