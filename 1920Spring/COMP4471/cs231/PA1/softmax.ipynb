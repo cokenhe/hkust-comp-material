{
 "cells": [
  {
   "cell_type": "markdown",
   "metadata": {},
   "source": [
    "# Softmax exercise\n",
    "\n",
    "*Complete and hand in this completed worksheet (including its outputs and any supporting code outside of the worksheet) with your assignment submission. For more details see the [assignments page](https://course.cse.ust.hk/comp4901j/Password_Only/programs/assignment1/index.html) on the course website.*\n",
    "\n",
    "This exercise is analogous to the SVM exercise. You will:\n",
    "\n",
    "- implement a fully-vectorized **loss function** for the Softmax classifier\n",
    "- implement the fully-vectorized expression for its **analytic gradient**\n",
    "- **check your implementation** with numerical gradient\n",
    "- use a validation set to **tune the learning rate and regularization** strength\n",
    "- **optimize** the loss function with **SGD**\n",
    "- **visualize** the final learned weights\n"
   ]
  },
  {
   "cell_type": "code",
   "execution_count": null,
   "metadata": {},
   "outputs": [],
   "source": [
    "# ref.: https://ljvmiranda921.github.io/notebook/2017/02/14/softmax-classifier/"
   ]
  },
  {
   "cell_type": "code",
   "execution_count": 1,
   "metadata": {},
   "outputs": [],
   "source": [
    "import random\n",
    "import numpy as np\n",
    "from cs231n.data_utils import load_CIFAR10\n",
    "import matplotlib.pyplot as plt\n",
    "\n",
    "from __future__ import print_function\n",
    "\n",
    "%matplotlib inline\n",
    "plt.rcParams['figure.figsize'] = (10.0, 8.0) # set default size of plots\n",
    "plt.rcParams['image.interpolation'] = 'nearest'\n",
    "plt.rcParams['image.cmap'] = 'gray'\n",
    "\n",
    "# for auto-reloading extenrnal modules\n",
    "# see http://stackoverflow.com/questions/1907993/autoreload-of-modules-in-ipython\n",
    "%load_ext autoreload\n",
    "%autoreload 2"
   ]
  },
  {
   "cell_type": "code",
   "execution_count": 2,
   "metadata": {},
   "outputs": [
    {
     "name": "stdout",
     "output_type": "stream",
     "text": [
      "Train data shape:  (49000, 3073)\n",
      "Train labels shape:  (49000,)\n",
      "Validation data shape:  (1000, 3073)\n",
      "Validation labels shape:  (1000,)\n",
      "Test data shape:  (1000, 3073)\n",
      "Test labels shape:  (1000,)\n",
      "dev data shape:  (500, 3073)\n",
      "dev labels shape:  (500,)\n"
     ]
    }
   ],
   "source": [
    "def get_CIFAR10_data(num_training=49000, num_validation=1000, num_test=1000, num_dev=500):\n",
    "    \"\"\"\n",
    "    Load the CIFAR-10 dataset from disk and perform preprocessing to prepare\n",
    "    it for the linear classifier. These are the same steps as we used for the\n",
    "    SVM, but condensed to a single function.  \n",
    "    \"\"\"\n",
    "    # Load the raw CIFAR-10 data\n",
    "    cifar10_dir = 'cs231n/datasets/cifar-10-batches-py'\n",
    "    X_train, y_train, X_test, y_test = load_CIFAR10(cifar10_dir)\n",
    "    \n",
    "    # subsample the data\n",
    "    mask = list(range(num_training, num_training + num_validation))\n",
    "    X_val = X_train[mask]\n",
    "    y_val = y_train[mask]\n",
    "    mask = list(range(num_training))\n",
    "    X_train = X_train[mask]\n",
    "    y_train = y_train[mask]\n",
    "    mask = list(range(num_test))\n",
    "    X_test = X_test[mask]\n",
    "    y_test = y_test[mask]\n",
    "    mask = np.random.choice(num_training, num_dev, replace=False)\n",
    "    X_dev = X_train[mask]\n",
    "    y_dev = y_train[mask]\n",
    "    \n",
    "    # Preprocessing: reshape the image data into rows\n",
    "    X_train = np.reshape(X_train, (X_train.shape[0], -1))\n",
    "    X_val = np.reshape(X_val, (X_val.shape[0], -1))\n",
    "    X_test = np.reshape(X_test, (X_test.shape[0], -1))\n",
    "    X_dev = np.reshape(X_dev, (X_dev.shape[0], -1))\n",
    "    \n",
    "    # Normalize the data: subtract the mean image\n",
    "    mean_image = np.mean(X_train, axis = 0)\n",
    "    X_train -= mean_image\n",
    "    X_val -= mean_image\n",
    "    X_test -= mean_image\n",
    "    X_dev -= mean_image\n",
    "    \n",
    "    # add bias dimension and transform into columns\n",
    "    X_train = np.hstack([X_train, np.ones((X_train.shape[0], 1))])\n",
    "    X_val = np.hstack([X_val, np.ones((X_val.shape[0], 1))])\n",
    "    X_test = np.hstack([X_test, np.ones((X_test.shape[0], 1))])\n",
    "    X_dev = np.hstack([X_dev, np.ones((X_dev.shape[0], 1))])\n",
    "    \n",
    "    return X_train, y_train, X_val, y_val, X_test, y_test, X_dev, y_dev\n",
    "\n",
    "\n",
    "# Invoke the above function to get our data.\n",
    "X_train, y_train, X_val, y_val, X_test, y_test, X_dev, y_dev = get_CIFAR10_data()\n",
    "print('Train data shape: ', X_train.shape)\n",
    "print('Train labels shape: ', y_train.shape)\n",
    "print('Validation data shape: ', X_val.shape)\n",
    "print('Validation labels shape: ', y_val.shape)\n",
    "print('Test data shape: ', X_test.shape)\n",
    "print('Test labels shape: ', y_test.shape)\n",
    "print('dev data shape: ', X_dev.shape)\n",
    "print('dev labels shape: ', y_dev.shape)"
   ]
  },
  {
   "cell_type": "markdown",
   "metadata": {},
   "source": [
    "## Softmax Classifier\n",
    "\n",
    "Your code for this section will all be written inside **cs231n/classifiers/softmax.py**. \n"
   ]
  },
  {
   "cell_type": "code",
   "execution_count": 4,
   "metadata": {},
   "outputs": [
    {
     "name": "stdout",
     "output_type": "stream",
     "text": [
      "loss: 2.383519\n",
      "sanity check: 2.302585\n"
     ]
    }
   ],
   "source": [
    "# First implement the naive softmax loss function with nested loops.\n",
    "# Open the file cs231n/classifiers/softmax.py and implement the\n",
    "# softmax_loss_naive function.\n",
    "\n",
    "from cs231n.classifiers.softmax import softmax_loss_naive\n",
    "import time\n",
    "\n",
    "# Generate a random softmax weight matrix and use it to compute the loss.\n",
    "W = np.random.randn(3073, 10) * 0.0001\n",
    "loss, grad = softmax_loss_naive(W, X_dev, y_dev, 0.0)\n",
    "\n",
    "# As a rough sanity check, our loss should be something close to -log(0.1).\n",
    "print('loss: %f' % loss)\n",
    "print('sanity check: %f' % (-np.log(0.1)))"
   ]
  },
  {
   "cell_type": "markdown",
   "metadata": {},
   "source": [
    "## Inline Question 1:\n",
    "Why do we expect our loss to be close to -log(0.1)? Explain briefly.**\n",
    "\n",
    "**Your answer:** The W is selected by random, so the probability of getting a correct class is 1/10.\n"
   ]
  },
  {
   "cell_type": "code",
   "execution_count": 26,
   "metadata": {},
   "outputs": [
    {
     "name": "stdout",
     "output_type": "stream",
     "text": [
      "numerical: -0.912362 analytic: -1.107158, relative error: 9.645657e-02\n",
      "numerical: -1.653172 analytic: -1.289285, relative error: 1.236676e-01\n",
      "numerical: -1.492486 analytic: -0.936104, relative error: 2.290967e-01\n",
      "numerical: 2.944006 analytic: 1.228762, relative error: 4.110568e-01\n",
      "numerical: -0.711809 analytic: -1.421571, relative error: 3.326933e-01\n",
      "numerical: -1.088019 analytic: -1.382498, relative error: 1.191974e-01\n",
      "numerical: 2.381289 analytic: 1.265783, relative error: 3.058633e-01\n",
      "numerical: 2.280869 analytic: 2.397272, relative error: 2.488246e-02\n",
      "numerical: -0.152005 analytic: -0.268597, relative error: 2.772020e-01\n",
      "numerical: -2.028513 analytic: -1.054908, relative error: 3.157550e-01\n",
      "numerical: -1.286615 analytic: -1.720528, relative error: 1.442942e-01\n",
      "numerical: 1.751973 analytic: 1.370187, relative error: 1.222829e-01\n",
      "numerical: 0.119191 analytic: -0.324955, relative error: 1.000000e+00\n",
      "numerical: 3.088141 analytic: 1.482739, relative error: 3.512240e-01\n",
      "numerical: 0.116901 analytic: -0.493012, relative error: 1.000000e+00\n",
      "numerical: 0.735640 analytic: 0.007530, relative error: 9.797342e-01\n",
      "numerical: -5.334747 analytic: -4.736043, relative error: 5.944962e-02\n",
      "numerical: 2.193702 analytic: 2.205160, relative error: 2.604841e-03\n",
      "numerical: 0.633182 analytic: 0.186793, relative error: 5.443932e-01\n",
      "numerical: 1.913567 analytic: 1.770720, relative error: 3.877194e-02\n"
     ]
    }
   ],
   "source": [
    "# Complete the implementation of softmax_loss_naive and implement a (naive)\n",
    "# version of the gradient that uses nested loops.\n",
    "loss, grad = softmax_loss_naive(W, X_dev, y_dev, 0.0)\n",
    "\n",
    "# As we did for the SVM, use numeric gradient checking as a debugging tool.\n",
    "# The numeric gradient should be close to the analytic gradient.\n",
    "from cs231n.gradient_check import grad_check_sparse\n",
    "f = lambda w: softmax_loss_naive(w, X_dev, y_dev, 0.0)[0]\n",
    "grad_numerical = grad_check_sparse(f, W, grad, 10)\n",
    "\n",
    "# similar to SVM case, do another gradient check with regularization\n",
    "loss, grad = softmax_loss_naive(W, X_dev, y_dev, 5e1)\n",
    "f = lambda w: softmax_loss_naive(w, X_dev, y_dev, 5e1)[0]\n",
    "grad_numerical = grad_check_sparse(f, W, grad, 10)"
   ]
  },
  {
   "cell_type": "code",
   "execution_count": 30,
   "metadata": {},
   "outputs": [
    {
     "name": "stdout",
     "output_type": "stream",
     "text": [
      "naive loss: 2.383519e+00 computed in 0.118602s\n",
      "vectorized loss: 2.383519e+00 computed in 0.004005s\n",
      "Loss difference: 0.000000\n",
      "Gradient difference: 127.463441\n"
     ]
    }
   ],
   "source": [
    "# Now that we have a naive implementation of the softmax loss function and its gradient,\n",
    "# implement a vectorized version in softmax_loss_vectorized.\n",
    "# The two versions should compute the same results, but the vectorized version should be\n",
    "# much faster.\n",
    "tic = time.time()\n",
    "loss_naive, grad_naive = softmax_loss_naive(W, X_dev, y_dev, 0.000005)\n",
    "toc = time.time()\n",
    "print('naive loss: %e computed in %fs' % (loss_naive, toc - tic))\n",
    "\n",
    "from cs231n.classifiers.softmax import softmax_loss_vectorized\n",
    "tic = time.time()\n",
    "loss_vectorized, grad_vectorized = softmax_loss_vectorized(W, X_dev, y_dev, 0.000005)\n",
    "toc = time.time()\n",
    "print('vectorized loss: %e computed in %fs' % (loss_vectorized, toc - tic))\n",
    "\n",
    "# As we did for the SVM, we use the Frobenius norm to compare the two versions\n",
    "# of the gradient.\n",
    "grad_difference = np.linalg.norm(grad_naive - grad_vectorized, ord='fro')\n",
    "print('Loss difference: %f' % np.abs(loss_naive - loss_vectorized))\n",
    "print('Gradient difference: %f' % grad_difference)"
   ]
  },
  {
   "cell_type": "code",
   "execution_count": 32,
   "metadata": {},
   "outputs": [
    {
     "name": "stdout",
     "output_type": "stream",
     "text": [
      "iteration 0 / 2000: loss 783.894801\n",
      "iteration 100 / 2000: loss 474.151882\n",
      "iteration 200 / 2000: loss 287.647693\n",
      "iteration 300 / 2000: loss 174.784063\n",
      "iteration 400 / 2000: loss 106.484338\n",
      "iteration 500 / 2000: loss 65.204048\n",
      "iteration 600 / 2000: loss 40.318421\n",
      "iteration 700 / 2000: loss 25.232958\n",
      "iteration 800 / 2000: loss 16.084209\n",
      "iteration 900 / 2000: loss 10.583221\n",
      "iteration 1000 / 2000: loss 7.146475\n",
      "iteration 1100 / 2000: loss 5.191640\n",
      "iteration 1200 / 2000: loss 3.971612\n",
      "iteration 1300 / 2000: loss 3.256839\n",
      "iteration 1400 / 2000: loss 2.821396\n",
      "iteration 1500 / 2000: loss 2.569580\n",
      "iteration 1600 / 2000: loss 2.301666\n",
      "iteration 1700 / 2000: loss 2.280920\n",
      "iteration 1800 / 2000: loss 2.230141\n",
      "iteration 1900 / 2000: loss 2.168868\n",
      "iteration 0 / 2000: loss 1554.096391\n",
      "iteration 100 / 2000: loss 569.710410\n",
      "iteration 200 / 2000: loss 209.931391\n",
      "iteration 300 / 2000: loss 78.225904\n",
      "iteration 400 / 2000: loss 29.997890\n",
      "iteration 500 / 2000: loss 12.363802\n",
      "iteration 600 / 2000: loss 5.868869\n",
      "iteration 700 / 2000: loss 3.554479\n",
      "iteration 800 / 2000: loss 2.702842\n",
      "iteration 900 / 2000: loss 2.284685\n",
      "iteration 1000 / 2000: loss 2.202486\n",
      "iteration 1100 / 2000: loss 2.195275\n",
      "iteration 1200 / 2000: loss 2.124474\n",
      "iteration 1300 / 2000: loss 2.124618\n",
      "iteration 1400 / 2000: loss 2.162235\n",
      "iteration 1500 / 2000: loss 2.137778\n",
      "iteration 1600 / 2000: loss 2.177794\n",
      "iteration 1700 / 2000: loss 2.219755\n",
      "iteration 1800 / 2000: loss 2.173037\n",
      "iteration 1900 / 2000: loss 2.109708\n",
      "iteration 0 / 2000: loss 768.955655\n",
      "iteration 100 / 2000: loss 63.085415\n",
      "iteration 200 / 2000: loss 6.943189\n",
      "iteration 300 / 2000: loss 2.496252\n",
      "iteration 400 / 2000: loss 2.141361\n",
      "iteration 500 / 2000: loss 2.082326\n",
      "iteration 600 / 2000: loss 2.092158\n",
      "iteration 700 / 2000: loss 2.138880\n",
      "iteration 800 / 2000: loss 2.112559\n",
      "iteration 900 / 2000: loss 2.043360\n",
      "iteration 1000 / 2000: loss 2.225771\n",
      "iteration 1100 / 2000: loss 2.073337\n",
      "iteration 1200 / 2000: loss 2.183268\n",
      "iteration 1300 / 2000: loss 2.131711\n",
      "iteration 1400 / 2000: loss 2.046981\n",
      "iteration 1500 / 2000: loss 2.072700\n",
      "iteration 1600 / 2000: loss 2.143241\n",
      "iteration 1700 / 2000: loss 2.090003\n",
      "iteration 1800 / 2000: loss 2.219588\n",
      "iteration 1900 / 2000: loss 2.088909\n",
      "iteration 0 / 2000: loss 1551.155899\n",
      "iteration 100 / 2000: loss 11.773553\n",
      "iteration 200 / 2000: loss 2.254601\n",
      "iteration 300 / 2000: loss 2.228463\n",
      "iteration 400 / 2000: loss 2.155636\n",
      "iteration 500 / 2000: loss 2.177311\n",
      "iteration 600 / 2000: loss 2.189716\n",
      "iteration 700 / 2000: loss 2.191646\n",
      "iteration 800 / 2000: loss 2.223814\n",
      "iteration 900 / 2000: loss 2.184347\n",
      "iteration 1000 / 2000: loss 2.170280\n",
      "iteration 1100 / 2000: loss 2.261587\n",
      "iteration 1200 / 2000: loss 2.266376\n",
      "iteration 1300 / 2000: loss 2.198880\n",
      "iteration 1400 / 2000: loss 2.114027\n",
      "iteration 1500 / 2000: loss 2.167148\n",
      "iteration 1600 / 2000: loss 2.164158\n",
      "iteration 1700 / 2000: loss 2.225345\n",
      "iteration 1800 / 2000: loss 2.230495\n",
      "iteration 1900 / 2000: loss 2.217912\n",
      "lr 1.000000e-07 reg 2.500000e+04 train accuracy: 0.351673 val accuracy: 0.369000\n",
      "lr 1.000000e-07 reg 5.000000e+04 train accuracy: 0.329571 val accuracy: 0.345000\n",
      "lr 5.000000e-07 reg 2.500000e+04 train accuracy: 0.345020 val accuracy: 0.355000\n",
      "lr 5.000000e-07 reg 5.000000e+04 train accuracy: 0.327633 val accuracy: 0.347000\n",
      "best validation accuracy achieved during cross-validation: 0.369000\n"
     ]
    }
   ],
   "source": [
    "# Use the validation set to tune hyperparameters (regularization strength and\n",
    "# learning rate). You should experiment with different ranges for the learning\n",
    "# rates and regularization strengths; if you are careful you should be able to\n",
    "# get a classification accuracy of over 0.35 on the validation set.\n",
    "from cs231n.classifiers import Softmax\n",
    "results = {}\n",
    "best_val = -1\n",
    "best_softmax = None\n",
    "learning_rates = [1e-7, 5e-7]\n",
    "regularization_strengths = [2.5e4, 5e4]\n",
    "\n",
    "################################################################################\n",
    "# TODO:                                                                        #\n",
    "# Use the validation set to set the learning rate and regularization strength. #\n",
    "# This should be identical to the validation that you did for the SVM; save    #\n",
    "# the best trained softmax classifer in best_softmax.                          #\n",
    "################################################################################\n",
    "for lr in learning_rates:\n",
    "    for rs in regularization_strengths:\n",
    "        softmax = Softmax()\n",
    "        _ = softmax.train(X_train, y_train, learning_rate=lr, reg=rs, num_iters=2000, verbose=True)\n",
    "        y_train_pred = softmax.predict(X_train)\n",
    "        y_val_pred = softmax.predict(X_val)\n",
    "        training_accuracy = np.mean(y_train == y_train_pred)\n",
    "        validation_accuracy = np.mean(y_val == y_val_pred)\n",
    "                                      \n",
    "        results[(lr, rs)] = (training_accuracy, validation_accuracy)\n",
    "        if validation_accuracy > best_val:\n",
    "            best_val = validation_accuracy\n",
    "            best_softmax = softmax\n",
    "        \n",
    "################################################################################\n",
    "#                              END OF YOUR CODE                                #\n",
    "################################################################################\n",
    "    \n",
    "# Print out results.\n",
    "for lr, reg in sorted(results):\n",
    "    train_accuracy, val_accuracy = results[(lr, reg)]\n",
    "    print('lr %e reg %e train accuracy: %f val accuracy: %f' % (\n",
    "                lr, reg, train_accuracy, val_accuracy))\n",
    "    \n",
    "print('best validation accuracy achieved during cross-validation: %f' % best_val)"
   ]
  },
  {
   "cell_type": "code",
   "execution_count": 33,
   "metadata": {},
   "outputs": [
    {
     "name": "stdout",
     "output_type": "stream",
     "text": [
      "softmax on raw pixels final test set accuracy: 0.359000\n"
     ]
    }
   ],
   "source": [
    "# evaluate on test set\n",
    "# Evaluate the best softmax on test set\n",
    "y_test_pred = best_softmax.predict(X_test)\n",
    "test_accuracy = np.mean(y_test == y_test_pred)\n",
    "print('softmax on raw pixels final test set accuracy: %f' % (test_accuracy, ))"
   ]
  },
  {
   "cell_type": "code",
   "execution_count": 34,
   "metadata": {},
   "outputs": [
    {
     "data": {
      "image/png": "[encoded data removed]",
      "text/plain": [
       "<Figure size 432x288 with 10 Axes>"
      ]
     },
     "metadata": {
      "needs_background": "light"
     },
     "output_type": "display_data"
    }
   ],
   "source": [
    "# Visualize the learned weights for each class\n",
    "w = best_softmax.W[:-1,:] # strip out the bias\n",
    "w = w.reshape(32, 32, 3, 10)\n",
    "\n",
    "w_min, w_max = np.min(w), np.max(w)\n",
    "\n",
    "classes = ['plane', 'car', 'bird', 'cat', 'deer', 'dog', 'frog', 'horse', 'ship', 'truck']\n",
    "for i in range(10):\n",
    "    plt.subplot(2, 5, i + 1)\n",
    "    \n",
    "    # Rescale the weights to be between 0 and 255\n",
    "    wimg = 255.0 * (w[:, :, :, i].squeeze() - w_min) / (w_max - w_min)\n",
    "    plt.imshow(wimg.astype('uint8'))\n",
    "    plt.axis('off')\n",
    "    plt.title(classes[i])"
   ]
  },
  {
   "cell_type": "code",
   "execution_count": null,
   "metadata": {},
   "outputs": [],
   "source": []
  }
 ],
 "metadata": {
  "kernelspec": {
   "display_name": "Python 3",
   "language": "python",
   "name": "python3"
  },
  "language_info": {
   "codemirror_mode": {
    "name": "ipython",
    "version": 3
   },
   "file_extension": ".py",
   "mimetype": "text/x-python",
   "name": "python",
   "nbconvert_exporter": "python",
   "pygments_lexer": "ipython3",
   "version": "3.6.6"
  }
 },
 "nbformat": 4,
 "nbformat_minor": 2
}
