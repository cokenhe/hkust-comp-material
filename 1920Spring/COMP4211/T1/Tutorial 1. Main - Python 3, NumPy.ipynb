{
 "cells": [
  {
   "cell_type": "markdown",
   "metadata": {
    "colab_type": "text",
    "id": "woZeEWkXIqSo"
   },
   "source": [
    "***\n",
    "\n",
    "# **COMP 4211: Machine Learning**\n",
    "# **Tutorial 1: Main - Python, NumPy**\n",
    "## TA: Donald (wlchanan@cse.ust.hk)\n",
    "\n",
    "***"
   ]
  },
  {
   "cell_type": "markdown",
   "metadata": {
    "colab_type": "text",
    "id": "3dr9Fa33IqSt"
   },
   "source": [
    "# Objective\n",
    "***\n",
    "\n",
    "## 1. Brief overview of Python3\n",
    "- Python is a script language (no compiler)\n",
    "- Python is based on modules, but OOP approach is supported.\n",
    "- Users need not specify any variable types in variable declaration / definition\n",
    "- **Make sure to be get familiar with Python OOP (Inheritance, internal functions, etc.) and Pythonic programming**\n",
    "- Official Tutorial: https://docs.python.org/3/tutorial/\n",
    "\n",
    "## 2. NumPy\n",
    "- A python package that supports multi-dimensional arrays (i.e., points, vectors, matrices, tensors) and their operations. I will call them *\"np arrays\"* for the rest of the tutorial.\n",
    "- Very useful for manipulating data in batches\n",
    "- Most machine learning frameworks these days follow NumPy-like APIs (e.g., TensorFlow, PyTorch, MxNet, Gluon, etc.)\n",
    "- Official Tutorial: https://docs.scipy.org/doc/numpy/user/quickstart.html"
   ]
  },
  {
   "cell_type": "markdown",
   "metadata": {
    "colab_type": "text",
    "id": "FDvThyA7IqSz"
   },
   "source": [
    "# Python3 Hands-on Experience\n",
    "\n",
    "***\n",
    "\n",
    "## Basic statements\n",
    "### 0) Real basics\n",
    "#### i. Every statement ends with a newline (c.f. c++ style semicolon is possible but usually I don't prefer it.)\n",
    "#### ii. There is no need to use curly brackets (e.g. {, }) for variable scope; instead, use indentation\n",
    "#### iii. Python3 by default has useful data structures, including list, dictionaries, etc."
   ]
  },
  {
   "cell_type": "markdown",
   "metadata": {
    "colab_type": "text",
    "id": "OLeuHR-O1J_Q"
   },
   "source": [
    "```C\n",
    "/* C code */\n",
    "int result = 0;\n",
    "for(int i=0; i<100; i++){\n",
    "    result += i;\n",
    "}\n",
    "```\n",
    "\n",
    "While in Python the equivalent operation could be written this way:\n",
    "\n",
    "```python\n",
    "# Python code\n",
    "result = 0\n",
    "for i in range(100):\n",
    "    result += i\n",
    "```\n",
    "\n",
    "Notice the main difference: in C, the data types of each variable are explicitly declared, while in Python the types are dynamically inferred."
   ]
  },
  {
   "cell_type": "markdown",
   "metadata": {
    "colab_type": "text",
    "id": "SPak19MQNYe5"
   },
   "source": [
    "## Variable declaration / definition\n",
    "we can assign any kind of data to any variable:\n",
    "\n",
    "```python\n",
    "# Python code\n",
    "x = 2020\n",
    "x = \"COMP4211\"\n",
    "```\n",
    "\n",
    "Here we've switched the contents of ``x`` from an integer to a string. The same thing in C would lead (depending on compiler settings) to a compilation error or other unintented consequences:\n",
    "\n",
    "```C\n",
    "/* C code */\n",
    "int x = 2020;\n",
    "x = \"COMP4211\";  // FAILS\n",
    "```\n",
    "\n"
   ]
  },
  {
   "cell_type": "markdown",
   "metadata": {
    "colab_type": "text",
    "id": "nWb9wwBf13J1"
   },
   "source": [
    "Python List"
   ]
  },
  {
   "cell_type": "code",
   "execution_count": 1,
   "metadata": {
    "colab": {
     "base_uri": "https://localhost:8080/",
     "height": 34
    },
    "colab_type": "code",
    "executionInfo": {
     "elapsed": 8859,
     "status": "ok",
     "timestamp": 1581284918482,
     "user": {
      "displayName": "Donald Chan",
      "photoUrl": "",
      "userId": "04030690051259137953"
     },
     "user_tz": -480
    },
    "id": "WjiQxqIT14aM",
    "outputId": "8e84e20a-0550-45f5-ff5a-dd1ab37bf696"
   },
   "outputs": [
    {
     "data": {
      "text/plain": [
       "[0, 1, 2, 3, 4, 5, 6, 7, 8, 9]"
      ]
     },
     "execution_count": 1,
     "metadata": {
      "tags": []
     },
     "output_type": "execute_result"
    }
   ],
   "source": [
    "L = list(range(10))\n",
    "L"
   ]
  },
  {
   "cell_type": "code",
   "execution_count": 2,
   "metadata": {
    "colab": {
     "base_uri": "https://localhost:8080/",
     "height": 34
    },
    "colab_type": "code",
    "executionInfo": {
     "elapsed": 8863,
     "status": "ok",
     "timestamp": 1581284918548,
     "user": {
      "displayName": "Donald Chan",
      "photoUrl": "",
      "userId": "04030690051259137953"
     },
     "user_tz": -480
    },
    "id": "CmcuRDoW2DAH",
    "outputId": "dcd42338-08d0-4fb0-e830-cc1ba82e15a9"
   },
   "outputs": [
    {
     "data": {
      "text/plain": [
       "int"
      ]
     },
     "execution_count": 2,
     "metadata": {
      "tags": []
     },
     "output_type": "execute_result"
    }
   ],
   "source": [
    "type(L[0])"
   ]
  },
  {
   "cell_type": "code",
   "execution_count": 3,
   "metadata": {
    "colab": {
     "base_uri": "https://localhost:8080/",
     "height": 34
    },
    "colab_type": "code",
    "executionInfo": {
     "elapsed": 8779,
     "status": "ok",
     "timestamp": 1581284918549,
     "user": {
      "displayName": "Donald Chan",
      "photoUrl": "",
      "userId": "04030690051259137953"
     },
     "user_tz": -480
    },
    "id": "Z4rAGk1Y2E4m",
    "outputId": "30d527ff-5384-474f-9d15-325c03367cd1"
   },
   "outputs": [
    {
     "data": {
      "text/plain": [
       "['0', '1', '2', '3', '4', '5', '6', '7', '8', '9']"
      ]
     },
     "execution_count": 3,
     "metadata": {
      "tags": []
     },
     "output_type": "execute_result"
    }
   ],
   "source": [
    "L2 = [str(c) for c in L]\n",
    "L2"
   ]
  },
  {
   "cell_type": "code",
   "execution_count": 4,
   "metadata": {
    "colab": {
     "base_uri": "https://localhost:8080/",
     "height": 34
    },
    "colab_type": "code",
    "executionInfo": {
     "elapsed": 8648,
     "status": "ok",
     "timestamp": 1581284918555,
     "user": {
      "displayName": "Donald Chan",
      "photoUrl": "",
      "userId": "04030690051259137953"
     },
     "user_tz": -480
    },
    "id": "8tVZ2wz32H6z",
    "outputId": "f6684a5d-8509-457c-e397-7f6a9bbedc96"
   },
   "outputs": [
    {
     "data": {
      "text/plain": [
       "str"
      ]
     },
     "execution_count": 4,
     "metadata": {
      "tags": []
     },
     "output_type": "execute_result"
    }
   ],
   "source": [
    "type(L2[0])"
   ]
  },
  {
   "cell_type": "markdown",
   "metadata": {
    "colab_type": "text",
    "id": "g2cBWXnV078T"
   },
   "source": [
    "Because of Python's dynamic typing, we can even create heterogeneous lists:"
   ]
  },
  {
   "cell_type": "code",
   "execution_count": 5,
   "metadata": {
    "colab": {
     "base_uri": "https://localhost:8080/",
     "height": 34
    },
    "colab_type": "code",
    "executionInfo": {
     "elapsed": 8554,
     "status": "ok",
     "timestamp": 1581284918560,
     "user": {
      "displayName": "Donald Chan",
      "photoUrl": "",
      "userId": "04030690051259137953"
     },
     "user_tz": -480
    },
    "id": "OE_W7BS0078Y",
    "outputId": "532438f1-62b6-4138-fb6e-100da765c3fd"
   },
   "outputs": [
    {
     "data": {
      "text/plain": [
       "[bool, str, float, int]"
      ]
     },
     "execution_count": 5,
     "metadata": {
      "tags": []
     },
     "output_type": "execute_result"
    }
   ],
   "source": [
    "L3 = [True, \"2\", 3.0, 4]\n",
    "[type(item) for item in L3]"
   ]
  },
  {
   "cell_type": "markdown",
   "metadata": {
    "colab_type": "text",
    "id": "GGjsRquZNa_d"
   },
   "source": [
    "## Control statement: if - elif - else\n",
    "\n"
   ]
  },
  {
   "cell_type": "code",
   "execution_count": 6,
   "metadata": {
    "colab": {
     "base_uri": "https://localhost:8080/",
     "height": 34
    },
    "colab_type": "code",
    "executionInfo": {
     "elapsed": 8480,
     "status": "ok",
     "timestamp": 1581284918571,
     "user": {
      "displayName": "Donald Chan",
      "photoUrl": "",
      "userId": "04030690051259137953"
     },
     "user_tz": -480
    },
    "id": "fCKMl9GuOKmV",
    "outputId": "962f3ab0-7f0f-4851-d753-b3ecd4706e68"
   },
   "outputs": [
    {
     "name": "stdout",
     "output_type": "stream",
     "text": [
      "the value of grade is B\n"
     ]
    }
   ],
   "source": [
    "# typical example of course grade\n",
    "score = 85\n",
    "if score >= 90: # note that colon (i.e. :) is used\n",
    "     grade = 'A' # statement is indented. note that the variable grade is assigned inside the if statement\n",
    "elif score >= 80: # use of elif (else if in c++)\n",
    "     grade = 'B'\n",
    "elif score <= 70:\n",
    "     grade = 'C'\n",
    "else: # now else is used\n",
    "     grade = 'F'\n",
    "print(f'the value of grade is {grade}')"
   ]
  },
  {
   "cell_type": "markdown",
   "metadata": {
    "colab_type": "text",
    "id": "XheCp_CVNc37"
   },
   "source": [
    "## Loop: while & for\n",
    "#### i. Python3 by default has a module *iterable*\n",
    "#### ii. with an *iterable* object, you can iterate over elements"
   ]
  },
  {
   "cell_type": "code",
   "execution_count": 7,
   "metadata": {
    "colab": {
     "base_uri": "https://localhost:8080/",
     "height": 68
    },
    "colab_type": "code",
    "executionInfo": {
     "elapsed": 8375,
     "status": "ok",
     "timestamp": 1581284918595,
     "user": {
      "displayName": "Donald Chan",
      "photoUrl": "",
      "userId": "04030690051259137953"
     },
     "user_tz": -480
    },
    "id": "8i1RsKYnOj6h",
    "outputId": "ce32b72e-5dc5-451b-8530-843790f0c80b"
   },
   "outputs": [
    {
     "name": "stdout",
     "output_type": "stream",
     "text": [
      "55\n",
      "55\n",
      "55\n"
     ]
    }
   ],
   "source": [
    "# Task:define a range from 1 to 10 and add them up\n",
    "# First method\n",
    "one2ten = range(1, 11)\n",
    "sum = 0\n",
    "for num in one2ten:\n",
    "     sum += num\n",
    "print(sum)\n",
    "# Second method\n",
    "# an alternative programming style is as follows:\n",
    "sum = 0\n",
    "for i in range(1, 11):\n",
    "     sum += i\n",
    "print(sum)\n",
    "# Third method # now use while to do the same thing\n",
    "sum = 0\n",
    "num = 1\n",
    "while num <= 10:\n",
    "     sum += num\n",
    "     num += 1\n",
    "print(sum)"
   ]
  },
  {
   "cell_type": "markdown",
   "metadata": {
    "colab_type": "text",
    "id": "RzGU8wNxNd5A"
   },
   "source": [
    "## Classes and OOP\n",
    "#### i. Python3 supports OOP\n",
    "#### ii. For details, look for some sources on the web\n",
    "#### iii. The simple, yet important rule to remember is shown below"
   ]
  },
  {
   "cell_type": "code",
   "execution_count": 8,
   "metadata": {
    "colab": {
     "base_uri": "https://localhost:8080/",
     "height": 51
    },
    "colab_type": "code",
    "executionInfo": {
     "elapsed": 8327,
     "status": "ok",
     "timestamp": 1581284918600,
     "user": {
      "displayName": "Donald Chan",
      "photoUrl": "",
      "userId": "04030690051259137953"
     },
     "user_tz": -480
    },
    "id": "bvrvdrSIPHTr",
    "outputId": "7985a3e2-462c-44e6-d69d-7c36af94b5d4"
   },
   "outputs": [
    {
     "name": "stdout",
     "output_type": "stream",
     "text": [
      "my_child.member_var defined\n",
      "printing from child function the member variable with value 1\n"
     ]
    }
   ],
   "source": [
    "# define a parent class\n",
    "class my_parent(object):\n",
    "     def __init__(self, my_var): # constructor\n",
    "         self.member_var = my_var\n",
    "         print(f'{self.__class__.__name__}.member_var defined')\n",
    "\n",
    "class my_child(my_parent):\n",
    "     def child_function(self):\n",
    "         print(f'printing from child function the member variable with value {self.member_var}')\n",
    "# now instantiate a child\n",
    "child_obj = my_child(1)\n",
    "child_obj.child_function()"
   ]
  },
  {
   "cell_type": "markdown",
   "metadata": {
    "colab_type": "text",
    "id": "J_FHFLX1IqS6"
   },
   "source": [
    "# Some NumPy basics\n"
   ]
  },
  {
   "cell_type": "markdown",
   "metadata": {
    "colab_type": "text",
    "id": "1LL6SlX908C8"
   },
   "source": [
    "| Data type\t    | Description |\n",
    "|---------------|-------------|\n",
    "| ``bool_``     | Boolean (True or False) stored as a byte |\n",
    "| ``int_``      | Default integer type (same as C ``long``; normally either ``int64`` or ``int32``)| \n",
    "| ``intc``      | Identical to C ``int`` (normally ``int32`` or ``int64``)| \n",
    "| ``intp``      | Integer used for indexing (same as C ``ssize_t``; normally either ``int32`` or ``int64``)| \n",
    "| ``int8``      | Byte (-128 to 127)| \n",
    "| ``int16``     | Integer (-32768 to 32767)|\n",
    "| ``int32``     | Integer (-2147483648 to 2147483647)|\n",
    "| ``int64``     | Integer (-9223372036854775808 to 9223372036854775807)| \n",
    "| ``uint8``     | Unsigned integer (0 to 255)| \n",
    "| ``uint16``    | Unsigned integer (0 to 65535)| \n",
    "| ``uint32``    | Unsigned integer (0 to 4294967295)| \n",
    "| ``uint64``    | Unsigned integer (0 to 18446744073709551615)| \n",
    "| ``float_``    | Shorthand for ``float64``.| \n",
    "| ``float16``   | Half precision float: sign bit, 5 bits exponent, 10 bits mantissa| \n",
    "| ``float32``   | Single precision float: sign bit, 8 bits exponent, 23 bits mantissa| \n",
    "| ``float64``   | Double precision float: sign bit, 11 bits exponent, 52 bits mantissa| \n",
    "| ``complex_``  | Shorthand for ``complex128``.| \n",
    "| ``complex64`` | Complex number, represented by two 32-bit floats| \n",
    "| ``complex128``| Complex number, represented by two 64-bit floats| "
   ]
  },
  {
   "cell_type": "code",
   "execution_count": 28,
   "metadata": {
    "colab": {},
    "colab_type": "code",
    "id": "7D6KEKnqdcbs"
   },
   "outputs": [],
   "source": [
    "import numpy as np"
   ]
  },
  {
   "cell_type": "markdown",
   "metadata": {
    "colab_type": "text",
    "id": "WUyEVOyf3hFL"
   },
   "source": [
    "## Generate numpy array, introduce attributes of numpy array"
   ]
  },
  {
   "cell_type": "code",
   "execution_count": 6,
   "metadata": {
    "colab": {
     "base_uri": "https://localhost:8080/",
     "height": 34
    },
    "colab_type": "code",
    "executionInfo": {
     "elapsed": 8171,
     "status": "ok",
     "timestamp": 1581284918610,
     "user": {
      "displayName": "Donald Chan",
      "photoUrl": "",
      "userId": "04030690051259137953"
     },
     "user_tz": -480
    },
    "id": "OCkzWmGH3HF2",
    "outputId": "1697a46e-b7a9-489b-f2bd-8c6768bb510b"
   },
   "outputs": [
    {
     "data": {
      "text/plain": [
       "numpy.float64"
      ]
     },
     "execution_count": 6,
     "metadata": {},
     "output_type": "execute_result"
    }
   ],
   "source": [
    "type(np.ones(5)[0])\n"
   ]
  },
  {
   "cell_type": "code",
   "execution_count": 11,
   "metadata": {
    "colab": {
     "base_uri": "https://localhost:8080/",
     "height": 34
    },
    "colab_type": "code",
    "executionInfo": {
     "elapsed": 8121,
     "status": "ok",
     "timestamp": 1581284918613,
     "user": {
      "displayName": "Donald Chan",
      "photoUrl": "",
      "userId": "04030690051259137953"
     },
     "user_tz": -480
    },
    "id": "wADL2vqy3mmk",
    "outputId": "aafaa51a-d410-4a61-a889-f86031ba53cc"
   },
   "outputs": [
    {
     "data": {
      "text/plain": [
       "array([0., 0., 0., 0., 0.])"
      ]
     },
     "execution_count": 11,
     "metadata": {
      "tags": []
     },
     "output_type": "execute_result"
    }
   ],
   "source": [
    "np.zeros(5)"
   ]
  },
  {
   "cell_type": "code",
   "execution_count": 12,
   "metadata": {
    "colab": {
     "base_uri": "https://localhost:8080/",
     "height": 323
    },
    "colab_type": "code",
    "executionInfo": {
     "elapsed": 8093,
     "status": "ok",
     "timestamp": 1581284918615,
     "user": {
      "displayName": "Donald Chan",
      "photoUrl": "",
      "userId": "04030690051259137953"
     },
     "user_tz": -480
    },
    "id": "vgyuAnzT20cN",
    "outputId": "9491da75-1963-4f4e-ab76-3a270e958f13"
   },
   "outputs": [
    {
     "name": "stdout",
     "output_type": "stream",
     "text": [
      "x1 [5 0 3 3 7 9]\n",
      "x2 [[3 5 2 4]\n",
      " [7 6 8 8]\n",
      " [1 6 7 7]]\n",
      "x3 [[[8 1 5 9 8]\n",
      "  [9 4 3 0 3]\n",
      "  [5 0 2 3 8]\n",
      "  [1 3 3 3 7]]\n",
      "\n",
      " [[0 1 9 9 0]\n",
      "  [4 7 3 2 7]\n",
      "  [2 0 0 4 5]\n",
      "  [5 6 8 4 1]]\n",
      "\n",
      " [[4 9 8 1 1]\n",
      "  [7 9 9 3 6]\n",
      "  [7 2 0 3 5]\n",
      "  [9 4 4 6 4]]]\n"
     ]
    }
   ],
   "source": [
    "# generate random numbers\n",
    "np.random.seed(0)  # seed for reproducibility\n",
    "\n",
    "x1 = np.random.randint(10, size=6)  # One-dimensional array\n",
    "x2 = np.random.randint(10, size=(3, 4))  # Two-dimensional array\n",
    "x3 = np.random.randint(10, size=(3, 4, 5))  # Three-dimensional array\n",
    "\n",
    "print('x1', x1)\n",
    "print('x2', x2)\n",
    "print('x3', x3)"
   ]
  },
  {
   "cell_type": "markdown",
   "metadata": {
    "colab_type": "text",
    "id": "7tjWFzcf20cT"
   },
   "source": [
    "Each array has attributes ``ndim`` (the number of dimensions), ``shape`` (the size of each dimension), and ``size`` (the total size of the array):"
   ]
  },
  {
   "cell_type": "code",
   "execution_count": 13,
   "metadata": {
    "colab": {
     "base_uri": "https://localhost:8080/",
     "height": 68
    },
    "colab_type": "code",
    "executionInfo": {
     "elapsed": 8052,
     "status": "ok",
     "timestamp": 1581284918618,
     "user": {
      "displayName": "Donald Chan",
      "photoUrl": "",
      "userId": "04030690051259137953"
     },
     "user_tz": -480
    },
    "id": "Q4qrn9DB20cV",
    "outputId": "8483a4a7-ca02-4ceb-fc6d-65edf684b9a0"
   },
   "outputs": [
    {
     "name": "stdout",
     "output_type": "stream",
     "text": [
      "x3 ndim:  3\n",
      "x3 shape: (3, 4, 5)\n",
      "x3 size:  60\n"
     ]
    }
   ],
   "source": [
    "print(\"x3 ndim: \", x3.ndim)\n",
    "print(\"x3 shape:\", x3.shape)\n",
    "print(\"x3 size: \", x3.size)"
   ]
  },
  {
   "cell_type": "markdown",
   "metadata": {
    "colab_type": "text",
    "id": "BuTj895v20cd"
   },
   "source": [
    "Another useful attribute is the ``dtype``, the data type of the array"
   ]
  },
  {
   "cell_type": "code",
   "execution_count": 14,
   "metadata": {
    "colab": {
     "base_uri": "https://localhost:8080/",
     "height": 34
    },
    "colab_type": "code",
    "executionInfo": {
     "elapsed": 8014,
     "status": "ok",
     "timestamp": 1581284918621,
     "user": {
      "displayName": "Donald Chan",
      "photoUrl": "",
      "userId": "04030690051259137953"
     },
     "user_tz": -480
    },
    "id": "D1FZLHyS20ce",
    "outputId": "3210e811-ee6d-491c-a39f-fefebd984cc8"
   },
   "outputs": [
    {
     "name": "stdout",
     "output_type": "stream",
     "text": [
      "dtype: int64\n"
     ]
    }
   ],
   "source": [
    "print(\"dtype:\", x3.dtype)"
   ]
  },
  {
   "cell_type": "markdown",
   "metadata": {
    "colab_type": "text",
    "id": "wpxIrXJ-20ck"
   },
   "source": [
    "Other attributes include ``itemsize``, which lists the size (in bytes) of each array element, and ``nbytes``, which lists the total size (in bytes) of the array:"
   ]
  },
  {
   "cell_type": "code",
   "execution_count": 15,
   "metadata": {
    "colab": {
     "base_uri": "https://localhost:8080/",
     "height": 51
    },
    "colab_type": "code",
    "executionInfo": {
     "elapsed": 7956,
     "status": "ok",
     "timestamp": 1581284918622,
     "user": {
      "displayName": "Donald Chan",
      "photoUrl": "",
      "userId": "04030690051259137953"
     },
     "user_tz": -480
    },
    "id": "r1hzXIvL20cl",
    "outputId": "73dfabc6-d953-490e-c4a1-f90068315be5"
   },
   "outputs": [
    {
     "name": "stdout",
     "output_type": "stream",
     "text": [
      "itemsize: 8 bytes\n",
      "nbytes: 480 bytes\n"
     ]
    }
   ],
   "source": [
    "print(\"itemsize:\", x3.itemsize, \"bytes\")\n",
    "print(\"nbytes:\", x3.nbytes, \"bytes\")"
   ]
  },
  {
   "cell_type": "markdown",
   "metadata": {
    "colab_type": "text",
    "id": "LlT4kCkn20cs"
   },
   "source": [
    "In general, we expect that ``nbytes`` is equal to ``itemsize`` times ``size``."
   ]
  },
  {
   "cell_type": "markdown",
   "metadata": {
    "colab_type": "text",
    "id": "c64fs0tq20ct"
   },
   "source": [
    "## Array Indexing: Accessing Single Elements"
   ]
  },
  {
   "cell_type": "markdown",
   "metadata": {
    "colab_type": "text",
    "id": "RHgkUGnh20cv"
   },
   "source": [
    "If you are familiar with Python's standard list indexing, indexing in NumPy will feel quite familiar.\n",
    "In a one-dimensional array, the $i^{th}$ value (counting from zero) can be accessed by specifying the desired index in square brackets, just as with Python lists:"
   ]
  },
  {
   "cell_type": "code",
   "execution_count": 16,
   "metadata": {
    "colab": {
     "base_uri": "https://localhost:8080/",
     "height": 34
    },
    "colab_type": "code",
    "executionInfo": {
     "elapsed": 7880,
     "status": "ok",
     "timestamp": 1581284918627,
     "user": {
      "displayName": "Donald Chan",
      "photoUrl": "",
      "userId": "04030690051259137953"
     },
     "user_tz": -480
    },
    "id": "EMBuhFBk20cv",
    "outputId": "0783223b-9158-4ee4-cc89-be00326357d5"
   },
   "outputs": [
    {
     "data": {
      "text/plain": [
       "array([5, 0, 3, 3, 7, 9])"
      ]
     },
     "execution_count": 16,
     "metadata": {
      "tags": []
     },
     "output_type": "execute_result"
    }
   ],
   "source": [
    "x1"
   ]
  },
  {
   "cell_type": "code",
   "execution_count": 17,
   "metadata": {
    "colab": {
     "base_uri": "https://localhost:8080/",
     "height": 34
    },
    "colab_type": "code",
    "executionInfo": {
     "elapsed": 7814,
     "status": "ok",
     "timestamp": 1581284918629,
     "user": {
      "displayName": "Donald Chan",
      "photoUrl": "",
      "userId": "04030690051259137953"
     },
     "user_tz": -480
    },
    "id": "WeNuGXus20c1",
    "outputId": "e0623523-6e23-40e7-84de-19369359373d"
   },
   "outputs": [
    {
     "data": {
      "text/plain": [
       "5"
      ]
     },
     "execution_count": 17,
     "metadata": {
      "tags": []
     },
     "output_type": "execute_result"
    }
   ],
   "source": [
    "x1[0]"
   ]
  },
  {
   "cell_type": "code",
   "execution_count": 18,
   "metadata": {
    "colab": {
     "base_uri": "https://localhost:8080/",
     "height": 34
    },
    "colab_type": "code",
    "executionInfo": {
     "elapsed": 7778,
     "status": "ok",
     "timestamp": 1581284918636,
     "user": {
      "displayName": "Donald Chan",
      "photoUrl": "",
      "userId": "04030690051259137953"
     },
     "user_tz": -480
    },
    "id": "0zPn424Z20c7",
    "outputId": "6feedf6b-00bc-4897-8f6d-2203e723b220"
   },
   "outputs": [
    {
     "data": {
      "text/plain": [
       "7"
      ]
     },
     "execution_count": 18,
     "metadata": {
      "tags": []
     },
     "output_type": "execute_result"
    }
   ],
   "source": [
    "x1[4]"
   ]
  },
  {
   "cell_type": "markdown",
   "metadata": {
    "colab_type": "text",
    "id": "PtLVFOql20c_"
   },
   "source": [
    "To index from the end of the array, you can use negative indices:"
   ]
  },
  {
   "cell_type": "code",
   "execution_count": 19,
   "metadata": {
    "colab": {
     "base_uri": "https://localhost:8080/",
     "height": 34
    },
    "colab_type": "code",
    "executionInfo": {
     "elapsed": 7744,
     "status": "ok",
     "timestamp": 1581284918637,
     "user": {
      "displayName": "Donald Chan",
      "photoUrl": "",
      "userId": "04030690051259137953"
     },
     "user_tz": -480
    },
    "id": "Aih9TtuY20dA",
    "outputId": "e8f84e43-9300-4290-cb5c-ac55a0995984"
   },
   "outputs": [
    {
     "data": {
      "text/plain": [
       "9"
      ]
     },
     "execution_count": 19,
     "metadata": {
      "tags": []
     },
     "output_type": "execute_result"
    }
   ],
   "source": [
    "x1[-1]"
   ]
  },
  {
   "cell_type": "code",
   "execution_count": 20,
   "metadata": {
    "colab": {
     "base_uri": "https://localhost:8080/",
     "height": 34
    },
    "colab_type": "code",
    "executionInfo": {
     "elapsed": 7707,
     "status": "ok",
     "timestamp": 1581284918638,
     "user": {
      "displayName": "Donald Chan",
      "photoUrl": "",
      "userId": "04030690051259137953"
     },
     "user_tz": -480
    },
    "id": "2C0K88L520dE",
    "outputId": "c2dabb71-f1de-4d0b-9a6e-5b0446c1b1f9"
   },
   "outputs": [
    {
     "data": {
      "text/plain": [
       "7"
      ]
     },
     "execution_count": 20,
     "metadata": {
      "tags": []
     },
     "output_type": "execute_result"
    }
   ],
   "source": [
    "x1[-2]"
   ]
  },
  {
   "cell_type": "markdown",
   "metadata": {
    "colab_type": "text",
    "id": "UDBnXW5Y20dH"
   },
   "source": [
    "In a multi-dimensional array, items can be accessed using a comma-separated tuple of indices:"
   ]
  },
  {
   "cell_type": "code",
   "execution_count": 21,
   "metadata": {
    "colab": {
     "base_uri": "https://localhost:8080/",
     "height": 68
    },
    "colab_type": "code",
    "executionInfo": {
     "elapsed": 7665,
     "status": "ok",
     "timestamp": 1581284918641,
     "user": {
      "displayName": "Donald Chan",
      "photoUrl": "",
      "userId": "04030690051259137953"
     },
     "user_tz": -480
    },
    "id": "oD1Zkh2Q20dI",
    "outputId": "8775b5d2-4550-4221-8e27-2aade727094d"
   },
   "outputs": [
    {
     "data": {
      "text/plain": [
       "array([[3, 5, 2, 4],\n",
       "       [7, 6, 8, 8],\n",
       "       [1, 6, 7, 7]])"
      ]
     },
     "execution_count": 21,
     "metadata": {
      "tags": []
     },
     "output_type": "execute_result"
    }
   ],
   "source": [
    "x2"
   ]
  },
  {
   "cell_type": "code",
   "execution_count": 22,
   "metadata": {
    "colab": {
     "base_uri": "https://localhost:8080/",
     "height": 34
    },
    "colab_type": "code",
    "executionInfo": {
     "elapsed": 7610,
     "status": "ok",
     "timestamp": 1581284918643,
     "user": {
      "displayName": "Donald Chan",
      "photoUrl": "",
      "userId": "04030690051259137953"
     },
     "user_tz": -480
    },
    "id": "FbbED4Ua20dL",
    "outputId": "9c83f678-9004-4ea2-97fd-0b5eef3b8a3f"
   },
   "outputs": [
    {
     "data": {
      "text/plain": [
       "3"
      ]
     },
     "execution_count": 22,
     "metadata": {
      "tags": []
     },
     "output_type": "execute_result"
    }
   ],
   "source": [
    "x2[0, 0]"
   ]
  },
  {
   "cell_type": "code",
   "execution_count": 23,
   "metadata": {
    "colab": {
     "base_uri": "https://localhost:8080/",
     "height": 34
    },
    "colab_type": "code",
    "executionInfo": {
     "elapsed": 7528,
     "status": "ok",
     "timestamp": 1581284918644,
     "user": {
      "displayName": "Donald Chan",
      "photoUrl": "",
      "userId": "04030690051259137953"
     },
     "user_tz": -480
    },
    "id": "ucsQYOY620dR",
    "outputId": "5461e2a0-b91b-43c6-eaa7-0a73d2e15347"
   },
   "outputs": [
    {
     "data": {
      "text/plain": [
       "1"
      ]
     },
     "execution_count": 23,
     "metadata": {
      "tags": []
     },
     "output_type": "execute_result"
    }
   ],
   "source": [
    "x2[2, 0]"
   ]
  },
  {
   "cell_type": "code",
   "execution_count": 24,
   "metadata": {
    "colab": {
     "base_uri": "https://localhost:8080/",
     "height": 34
    },
    "colab_type": "code",
    "executionInfo": {
     "elapsed": 7467,
     "status": "ok",
     "timestamp": 1581284918646,
     "user": {
      "displayName": "Donald Chan",
      "photoUrl": "",
      "userId": "04030690051259137953"
     },
     "user_tz": -480
    },
    "id": "QONZxTma20dV",
    "outputId": "619892eb-91d9-4188-dfef-625e64681955"
   },
   "outputs": [
    {
     "data": {
      "text/plain": [
       "7"
      ]
     },
     "execution_count": 24,
     "metadata": {
      "tags": []
     },
     "output_type": "execute_result"
    }
   ],
   "source": [
    "x2[2, -1]"
   ]
  },
  {
   "cell_type": "markdown",
   "metadata": {
    "colab_type": "text",
    "id": "TDZHRffm20da"
   },
   "source": [
    "Values can also be modified using any of the above index notation:"
   ]
  },
  {
   "cell_type": "code",
   "execution_count": 25,
   "metadata": {
    "colab": {
     "base_uri": "https://localhost:8080/",
     "height": 68
    },
    "colab_type": "code",
    "executionInfo": {
     "elapsed": 7447,
     "status": "ok",
     "timestamp": 1581284918653,
     "user": {
      "displayName": "Donald Chan",
      "photoUrl": "",
      "userId": "04030690051259137953"
     },
     "user_tz": -480
    },
    "id": "KEn9hgFr20db",
    "outputId": "e1a86c85-7757-4b85-a14f-7d9490e0df66"
   },
   "outputs": [
    {
     "data": {
      "text/plain": [
       "array([[12,  5,  2,  4],\n",
       "       [ 7,  6,  8,  8],\n",
       "       [ 1,  6,  7,  7]])"
      ]
     },
     "execution_count": 25,
     "metadata": {
      "tags": []
     },
     "output_type": "execute_result"
    }
   ],
   "source": [
    "x2[0, 0] = 12\n",
    "x2"
   ]
  },
  {
   "cell_type": "markdown",
   "metadata": {
    "colab_type": "text",
    "id": "1zF_KdKt20dg"
   },
   "source": [
    "Keep in mind that, unlike Python lists, NumPy arrays have a fixed type.\n",
    "This means, for example, that if you attempt to insert a floating-point value to an integer array, the value will be silently truncated."
   ]
  },
  {
   "cell_type": "code",
   "execution_count": 26,
   "metadata": {
    "colab": {
     "base_uri": "https://localhost:8080/",
     "height": 34
    },
    "colab_type": "code",
    "executionInfo": {
     "elapsed": 7413,
     "status": "ok",
     "timestamp": 1581284918655,
     "user": {
      "displayName": "Donald Chan",
      "photoUrl": "",
      "userId": "04030690051259137953"
     },
     "user_tz": -480
    },
    "id": "Xzia0our20dh",
    "outputId": "6e625e39-359a-439d-cc97-abde23c830d8"
   },
   "outputs": [
    {
     "data": {
      "text/plain": [
       "array([3, 0, 3, 3, 7, 9])"
      ]
     },
     "execution_count": 26,
     "metadata": {
      "tags": []
     },
     "output_type": "execute_result"
    }
   ],
   "source": [
    "x1[0] = 3.14159  # this will be truncated!\n",
    "x1"
   ]
  },
  {
   "cell_type": "markdown",
   "metadata": {
    "colab_type": "text",
    "id": "m3ucCtdB20dl"
   },
   "source": [
    "## Array Slicing: Accessing Subarrays"
   ]
  },
  {
   "cell_type": "markdown",
   "metadata": {
    "colab_type": "text",
    "id": "IvUoNvYW20dm"
   },
   "source": [
    "Just as we can use square brackets to access individual array elements, we can also use them to access subarrays with the *slice* notation, marked by the colon (``:``) character.\n",
    "The NumPy slicing syntax follows that of the standard Python list; to access a slice of an array ``x``, use this:\n",
    "``` python\n",
    "x[start:stop:step]\n",
    "```\n",
    "If any of these are unspecified, they default to the values ``start=0``, ``stop=``*``size of dimension``*, ``step=1``.\n",
    "We'll take a look at accessing sub-arrays in one dimension and in multiple dimensions."
   ]
  },
  {
   "cell_type": "markdown",
   "metadata": {
    "colab_type": "text",
    "id": "as0SsQ9M20dn"
   },
   "source": [
    "### One-dimensional subarrays"
   ]
  },
  {
   "cell_type": "code",
   "execution_count": 8,
   "metadata": {
    "colab": {
     "base_uri": "https://localhost:8080/",
     "height": 34
    },
    "colab_type": "code",
    "executionInfo": {
     "elapsed": 7379,
     "status": "ok",
     "timestamp": 1581284918657,
     "user": {
      "displayName": "Donald Chan",
      "photoUrl": "",
      "userId": "04030690051259137953"
     },
     "user_tz": -480
    },
    "id": "7Gfcx-CW20do",
    "outputId": "dc558e09-5c1b-4675-9996-7bb3bce9c417"
   },
   "outputs": [
    {
     "data": {
      "text/plain": [
       "array([0, 1, 2, 3, 4, 5, 6, 7, 8, 9])"
      ]
     },
     "execution_count": 8,
     "metadata": {},
     "output_type": "execute_result"
    }
   ],
   "source": [
    "x = np.arange(10)\n",
    "x"
   ]
  },
  {
   "cell_type": "code",
   "execution_count": 28,
   "metadata": {
    "colab": {
     "base_uri": "https://localhost:8080/",
     "height": 34
    },
    "colab_type": "code",
    "executionInfo": {
     "elapsed": 7311,
     "status": "ok",
     "timestamp": 1581284918658,
     "user": {
      "displayName": "Donald Chan",
      "photoUrl": "",
      "userId": "04030690051259137953"
     },
     "user_tz": -480
    },
    "id": "xZWKEA9B20dr",
    "outputId": "4552fbcb-8220-495a-a480-43b997272e98"
   },
   "outputs": [
    {
     "data": {
      "text/plain": [
       "array([0, 1, 2, 3, 4])"
      ]
     },
     "execution_count": 28,
     "metadata": {
      "tags": []
     },
     "output_type": "execute_result"
    }
   ],
   "source": [
    "x[:5]  # first five elements"
   ]
  },
  {
   "cell_type": "code",
   "execution_count": 29,
   "metadata": {
    "colab": {
     "base_uri": "https://localhost:8080/",
     "height": 34
    },
    "colab_type": "code",
    "executionInfo": {
     "elapsed": 7286,
     "status": "ok",
     "timestamp": 1581284918659,
     "user": {
      "displayName": "Donald Chan",
      "photoUrl": "",
      "userId": "04030690051259137953"
     },
     "user_tz": -480
    },
    "id": "ZnJ5Cdqg20du",
    "outputId": "b7264bd0-4c1b-4bd6-e41c-5d5eb4666dbf"
   },
   "outputs": [
    {
     "data": {
      "text/plain": [
       "array([5, 6, 7, 8, 9])"
      ]
     },
     "execution_count": 29,
     "metadata": {
      "tags": []
     },
     "output_type": "execute_result"
    }
   ],
   "source": [
    "x[5:]  # elements after index 5"
   ]
  },
  {
   "cell_type": "code",
   "execution_count": 30,
   "metadata": {
    "colab": {
     "base_uri": "https://localhost:8080/",
     "height": 34
    },
    "colab_type": "code",
    "executionInfo": {
     "elapsed": 7258,
     "status": "ok",
     "timestamp": 1581284918661,
     "user": {
      "displayName": "Donald Chan",
      "photoUrl": "",
      "userId": "04030690051259137953"
     },
     "user_tz": -480
    },
    "id": "myZs834x20dw",
    "outputId": "6167b191-cf3d-45cb-b16e-241d99444565"
   },
   "outputs": [
    {
     "data": {
      "text/plain": [
       "array([4, 5, 6])"
      ]
     },
     "execution_count": 30,
     "metadata": {
      "tags": []
     },
     "output_type": "execute_result"
    }
   ],
   "source": [
    "x[4:7]  # middle sub-array"
   ]
  },
  {
   "cell_type": "code",
   "execution_count": 31,
   "metadata": {
    "colab": {
     "base_uri": "https://localhost:8080/",
     "height": 34
    },
    "colab_type": "code",
    "executionInfo": {
     "elapsed": 7232,
     "status": "ok",
     "timestamp": 1581284918664,
     "user": {
      "displayName": "Donald Chan",
      "photoUrl": "",
      "userId": "04030690051259137953"
     },
     "user_tz": -480
    },
    "id": "Y6FfAWn820dy",
    "outputId": "c8cdb891-c56d-4f15-d47f-a79d2c8c400c"
   },
   "outputs": [
    {
     "data": {
      "text/plain": [
       "array([0, 2, 4, 6, 8])"
      ]
     },
     "execution_count": 31,
     "metadata": {
      "tags": []
     },
     "output_type": "execute_result"
    }
   ],
   "source": [
    "x[::2]  # every other element"
   ]
  },
  {
   "cell_type": "code",
   "execution_count": 32,
   "metadata": {
    "colab": {
     "base_uri": "https://localhost:8080/",
     "height": 34
    },
    "colab_type": "code",
    "executionInfo": {
     "elapsed": 7196,
     "status": "ok",
     "timestamp": 1581284918666,
     "user": {
      "displayName": "Donald Chan",
      "photoUrl": "",
      "userId": "04030690051259137953"
     },
     "user_tz": -480
    },
    "id": "TCA1lXZI20d1",
    "outputId": "4e0341f7-7296-4ea7-e6b6-acbce59e4f0b"
   },
   "outputs": [
    {
     "data": {
      "text/plain": [
       "array([1, 3, 5, 7, 9])"
      ]
     },
     "execution_count": 32,
     "metadata": {
      "tags": []
     },
     "output_type": "execute_result"
    }
   ],
   "source": [
    "x[1::2]  # every other element, starting at index 1"
   ]
  },
  {
   "cell_type": "markdown",
   "metadata": {
    "colab_type": "text",
    "id": "pR2eW00B20d6"
   },
   "source": [
    "A potentially confusing case is when the ``step`` value is negative.\n",
    "In this case, the defaults for ``start`` and ``stop`` are swapped.\n",
    "This becomes a convenient way to reverse an array:"
   ]
  },
  {
   "cell_type": "code",
   "execution_count": 33,
   "metadata": {
    "colab": {
     "base_uri": "https://localhost:8080/",
     "height": 34
    },
    "colab_type": "code",
    "executionInfo": {
     "elapsed": 7143,
     "status": "ok",
     "timestamp": 1581284918668,
     "user": {
      "displayName": "Donald Chan",
      "photoUrl": "",
      "userId": "04030690051259137953"
     },
     "user_tz": -480
    },
    "id": "_m8Syu5120eJ",
    "outputId": "0dc976a0-b169-45f2-fa63-b3c951f6e060"
   },
   "outputs": [
    {
     "data": {
      "text/plain": [
       "array([9, 8, 7, 6, 5, 4, 3, 2, 1, 0])"
      ]
     },
     "execution_count": 33,
     "metadata": {
      "tags": []
     },
     "output_type": "execute_result"
    }
   ],
   "source": [
    "x[::-1]  # all elements, reversed"
   ]
  },
  {
   "cell_type": "code",
   "execution_count": 10,
   "metadata": {
    "colab": {
     "base_uri": "https://localhost:8080/",
     "height": 34
    },
    "colab_type": "code",
    "executionInfo": {
     "elapsed": 7097,
     "status": "ok",
     "timestamp": 1581284918675,
     "user": {
      "displayName": "Donald Chan",
      "photoUrl": "",
      "userId": "04030690051259137953"
     },
     "user_tz": -480
    },
    "id": "nsv5EQAA20eL",
    "outputId": "67be8075-b03f-41b1-f34c-5db2492031b0"
   },
   "outputs": [
    {
     "data": {
      "text/plain": [
       "array([9, 6, 3])"
      ]
     },
     "execution_count": 10,
     "metadata": {},
     "output_type": "execute_result"
    }
   ],
   "source": [
    "x[9:2:-3]  # reversed every other from index 5"
   ]
  },
  {
   "cell_type": "markdown",
   "metadata": {
    "colab_type": "text",
    "id": "6xwKZbZx20eT"
   },
   "source": [
    "### Multi-dimensional subarrays\n",
    "\n",
    "Multi-dimensional slices work in the same way, with multiple slices separated by commas.\n",
    "For example:"
   ]
  },
  {
   "cell_type": "code",
   "execution_count": 35,
   "metadata": {
    "colab": {
     "base_uri": "https://localhost:8080/",
     "height": 68
    },
    "colab_type": "code",
    "executionInfo": {
     "elapsed": 7058,
     "status": "ok",
     "timestamp": 1581284918688,
     "user": {
      "displayName": "Donald Chan",
      "photoUrl": "",
      "userId": "04030690051259137953"
     },
     "user_tz": -480
    },
    "id": "N9Liv4BK20eY",
    "outputId": "1554b78c-9724-4bb0-eef0-4502a65c1c47"
   },
   "outputs": [
    {
     "data": {
      "text/plain": [
       "array([[12,  5,  2,  4],\n",
       "       [ 7,  6,  8,  8],\n",
       "       [ 1,  6,  7,  7]])"
      ]
     },
     "execution_count": 35,
     "metadata": {
      "tags": []
     },
     "output_type": "execute_result"
    }
   ],
   "source": [
    "x2"
   ]
  },
  {
   "cell_type": "code",
   "execution_count": 36,
   "metadata": {
    "colab": {
     "base_uri": "https://localhost:8080/",
     "height": 51
    },
    "colab_type": "code",
    "executionInfo": {
     "elapsed": 7028,
     "status": "ok",
     "timestamp": 1581284918705,
     "user": {
      "displayName": "Donald Chan",
      "photoUrl": "",
      "userId": "04030690051259137953"
     },
     "user_tz": -480
    },
    "id": "GHEBGDxr20fD",
    "outputId": "50b44e78-9a2a-4419-dc81-350593040005"
   },
   "outputs": [
    {
     "data": {
      "text/plain": [
       "array([[12,  5,  2],\n",
       "       [ 7,  6,  8]])"
      ]
     },
     "execution_count": 36,
     "metadata": {
      "tags": []
     },
     "output_type": "execute_result"
    }
   ],
   "source": [
    "x2[:2, :3]  # two rows, three columns"
   ]
  },
  {
   "cell_type": "code",
   "execution_count": 37,
   "metadata": {
    "colab": {
     "base_uri": "https://localhost:8080/",
     "height": 68
    },
    "colab_type": "code",
    "executionInfo": {
     "elapsed": 6988,
     "status": "ok",
     "timestamp": 1581284918713,
     "user": {
      "displayName": "Donald Chan",
      "photoUrl": "",
      "userId": "04030690051259137953"
     },
     "user_tz": -480
    },
    "id": "1fQwqYlb20fq",
    "outputId": "b30b392d-6151-41ba-b729-affd3ce29c26"
   },
   "outputs": [
    {
     "data": {
      "text/plain": [
       "array([[12,  2],\n",
       "       [ 7,  8],\n",
       "       [ 1,  7]])"
      ]
     },
     "execution_count": 37,
     "metadata": {
      "tags": []
     },
     "output_type": "execute_result"
    }
   ],
   "source": [
    "x2[:3, ::2]  # all rows, every other column"
   ]
  },
  {
   "cell_type": "markdown",
   "metadata": {
    "colab_type": "text",
    "id": "gVa8Xtdm20gj"
   },
   "source": [
    "Finally, subarray dimensions can even be reversed together:"
   ]
  },
  {
   "cell_type": "code",
   "execution_count": 38,
   "metadata": {
    "colab": {
     "base_uri": "https://localhost:8080/",
     "height": 68
    },
    "colab_type": "code",
    "executionInfo": {
     "elapsed": 6879,
     "status": "ok",
     "timestamp": 1581284918720,
     "user": {
      "displayName": "Donald Chan",
      "photoUrl": "",
      "userId": "04030690051259137953"
     },
     "user_tz": -480
    },
    "id": "7_B9wluz20gq",
    "outputId": "beb5b7da-345a-40f2-e30a-a31cc94fa80e"
   },
   "outputs": [
    {
     "data": {
      "text/plain": [
       "array([[ 7,  7,  6,  1],\n",
       "       [ 8,  8,  6,  7],\n",
       "       [ 4,  2,  5, 12]])"
      ]
     },
     "execution_count": 38,
     "metadata": {
      "tags": []
     },
     "output_type": "execute_result"
    }
   ],
   "source": [
    "x2[::-1, ::-1]"
   ]
  },
  {
   "cell_type": "markdown",
   "metadata": {
    "colab_type": "text",
    "id": "m4OYlNKI20hg"
   },
   "source": [
    "#### Accessing array rows and columns\n",
    "\n",
    "One commonly needed routine is accessing of single rows or columns of an array.\n",
    "This can be done by combining indexing and slicing, using an empty slice marked by a single colon (``:``):"
   ]
  },
  {
   "cell_type": "code",
   "execution_count": 39,
   "metadata": {
    "colab": {
     "base_uri": "https://localhost:8080/",
     "height": 34
    },
    "colab_type": "code",
    "executionInfo": {
     "elapsed": 6847,
     "status": "ok",
     "timestamp": 1581284918733,
     "user": {
      "displayName": "Donald Chan",
      "photoUrl": "",
      "userId": "04030690051259137953"
     },
     "user_tz": -480
    },
    "id": "wVL1G4_J20hs",
    "outputId": "93debcf4-5fd4-48ad-ab76-046e4b9070a8"
   },
   "outputs": [
    {
     "name": "stdout",
     "output_type": "stream",
     "text": [
      "[12  7  1]\n"
     ]
    }
   ],
   "source": [
    "print(x2[:, 0])  # first column of x2"
   ]
  },
  {
   "cell_type": "code",
   "execution_count": 40,
   "metadata": {
    "colab": {
     "base_uri": "https://localhost:8080/",
     "height": 34
    },
    "colab_type": "code",
    "executionInfo": {
     "elapsed": 6907,
     "status": "ok",
     "timestamp": 1581284918832,
     "user": {
      "displayName": "Donald Chan",
      "photoUrl": "",
      "userId": "04030690051259137953"
     },
     "user_tz": -480
    },
    "id": "XHOB1S-w20iJ",
    "outputId": "4941e495-129e-4841-caa4-28828cf9b72e"
   },
   "outputs": [
    {
     "name": "stdout",
     "output_type": "stream",
     "text": [
      "[12  5  2  4]\n"
     ]
    }
   ],
   "source": [
    "print(x2[0, :])  # first row of x2"
   ]
  },
  {
   "cell_type": "markdown",
   "metadata": {
    "colab_type": "text",
    "id": "Odl4AURN20iM"
   },
   "source": [
    "In the case of row access, the empty slice can be omitted for a more compact syntax:"
   ]
  },
  {
   "cell_type": "code",
   "execution_count": 41,
   "metadata": {
    "colab": {
     "base_uri": "https://localhost:8080/",
     "height": 34
    },
    "colab_type": "code",
    "executionInfo": {
     "elapsed": 6899,
     "status": "ok",
     "timestamp": 1581284918858,
     "user": {
      "displayName": "Donald Chan",
      "photoUrl": "",
      "userId": "04030690051259137953"
     },
     "user_tz": -480
    },
    "id": "7ypPzmyH20iO",
    "outputId": "af369602-1b0f-40ce-dd57-17419c523ace"
   },
   "outputs": [
    {
     "name": "stdout",
     "output_type": "stream",
     "text": [
      "[12  5  2  4]\n"
     ]
    }
   ],
   "source": [
    "print(x2[0])  # equivalent to x2[0, :]"
   ]
  },
  {
   "cell_type": "markdown",
   "metadata": {
    "colab_type": "text",
    "id": "4iyiXZhd20iU"
   },
   "source": [
    "### Subarrays as no-copy views\n",
    "\n",
    "One important–and extremely useful–thing to know about array slices is that they return *views* rather than *copies* of the array data.\n",
    "This is one area in which NumPy array slicing differs from Python list slicing: in lists, slices will be copies.\n",
    "Consider our two-dimensional array from before:"
   ]
  },
  {
   "cell_type": "code",
   "execution_count": 42,
   "metadata": {
    "colab": {
     "base_uri": "https://localhost:8080/",
     "height": 68
    },
    "colab_type": "code",
    "executionInfo": {
     "elapsed": 6861,
     "status": "ok",
     "timestamp": 1581284918862,
     "user": {
      "displayName": "Donald Chan",
      "photoUrl": "",
      "userId": "04030690051259137953"
     },
     "user_tz": -480
    },
    "id": "uF8r2ELo20iY",
    "outputId": "8eafa7a0-0cd7-4555-80da-007bc5148ff7"
   },
   "outputs": [
    {
     "name": "stdout",
     "output_type": "stream",
     "text": [
      "[[12  5  2  4]\n",
      " [ 7  6  8  8]\n",
      " [ 1  6  7  7]]\n"
     ]
    }
   ],
   "source": [
    "print(x2)"
   ]
  },
  {
   "cell_type": "markdown",
   "metadata": {
    "colab_type": "text",
    "id": "PmOwpxY720ic"
   },
   "source": [
    "Let's extract a $2 \\times 2$ subarray from this:"
   ]
  },
  {
   "cell_type": "code",
   "execution_count": 43,
   "metadata": {
    "colab": {
     "base_uri": "https://localhost:8080/",
     "height": 51
    },
    "colab_type": "code",
    "executionInfo": {
     "elapsed": 6801,
     "status": "ok",
     "timestamp": 1581284918865,
     "user": {
      "displayName": "Donald Chan",
      "photoUrl": "",
      "userId": "04030690051259137953"
     },
     "user_tz": -480
    },
    "id": "eh_tZUvt20id",
    "outputId": "84096398-805d-494a-f85e-288a2b3fb507"
   },
   "outputs": [
    {
     "name": "stdout",
     "output_type": "stream",
     "text": [
      "[[12  5]\n",
      " [ 7  6]]\n"
     ]
    }
   ],
   "source": [
    "x2_sub = x2[:2, :2]\n",
    "print(x2_sub)"
   ]
  },
  {
   "cell_type": "markdown",
   "metadata": {
    "colab_type": "text",
    "id": "3Ga8ypDb20if"
   },
   "source": [
    "Now if we modify this subarray, we'll see that the original array is changed! Observe:"
   ]
  },
  {
   "cell_type": "code",
   "execution_count": 44,
   "metadata": {
    "colab": {
     "base_uri": "https://localhost:8080/",
     "height": 51
    },
    "colab_type": "code",
    "executionInfo": {
     "elapsed": 6770,
     "status": "ok",
     "timestamp": 1581284918868,
     "user": {
      "displayName": "Donald Chan",
      "photoUrl": "",
      "userId": "04030690051259137953"
     },
     "user_tz": -480
    },
    "id": "sH_UbAnz20ig",
    "outputId": "f9b5cd64-f147-41c5-a30b-a4af74e2677d"
   },
   "outputs": [
    {
     "name": "stdout",
     "output_type": "stream",
     "text": [
      "[[99  5]\n",
      " [ 7  6]]\n"
     ]
    }
   ],
   "source": [
    "x2_sub[0, 0] = 99\n",
    "print(x2_sub)"
   ]
  },
  {
   "cell_type": "code",
   "execution_count": 45,
   "metadata": {
    "colab": {
     "base_uri": "https://localhost:8080/",
     "height": 68
    },
    "colab_type": "code",
    "executionInfo": {
     "elapsed": 6657,
     "status": "ok",
     "timestamp": 1581284918870,
     "user": {
      "displayName": "Donald Chan",
      "photoUrl": "",
      "userId": "04030690051259137953"
     },
     "user_tz": -480
    },
    "id": "W8crhKPm20iv",
    "outputId": "1f81e5a3-a81b-4bc3-bca5-c9072d8f7da7"
   },
   "outputs": [
    {
     "name": "stdout",
     "output_type": "stream",
     "text": [
      "[[99  5  2  4]\n",
      " [ 7  6  8  8]\n",
      " [ 1  6  7  7]]\n"
     ]
    }
   ],
   "source": [
    "print(x2)"
   ]
  },
  {
   "cell_type": "markdown",
   "metadata": {
    "colab_type": "text",
    "id": "gxJyiiQf20i2"
   },
   "source": [
    "This default behavior is actually quite useful: it means that when we work with large datasets, we can access and process pieces of these datasets without the need to copy the underlying data buffer."
   ]
  },
  {
   "cell_type": "markdown",
   "metadata": {
    "colab_type": "text",
    "id": "M11d2Saq20i4"
   },
   "source": [
    "### Creating copies of arrays\n",
    "\n",
    "Despite the nice features of array views, it is sometimes useful to instead explicitly copy the data within an array or a subarray. This can be most easily done with the ``copy()`` method:"
   ]
  },
  {
   "cell_type": "code",
   "execution_count": 46,
   "metadata": {
    "colab": {
     "base_uri": "https://localhost:8080/",
     "height": 51
    },
    "colab_type": "code",
    "executionInfo": {
     "elapsed": 6618,
     "status": "ok",
     "timestamp": 1581284918872,
     "user": {
      "displayName": "Donald Chan",
      "photoUrl": "",
      "userId": "04030690051259137953"
     },
     "user_tz": -480
    },
    "id": "SIDiLZj120i5",
    "outputId": "b97c0f26-378c-43f2-a6a4-dc5e9ba1f704"
   },
   "outputs": [
    {
     "name": "stdout",
     "output_type": "stream",
     "text": [
      "[[99  5]\n",
      " [ 7  6]]\n"
     ]
    }
   ],
   "source": [
    "x2_sub_copy = x2[:2, :2].copy()\n",
    "print(x2_sub_copy)"
   ]
  },
  {
   "cell_type": "markdown",
   "metadata": {
    "colab_type": "text",
    "id": "VTLWlvQL20i8"
   },
   "source": [
    "If we now modify this subarray, the original array is not touched:"
   ]
  },
  {
   "cell_type": "code",
   "execution_count": 47,
   "metadata": {
    "colab": {
     "base_uri": "https://localhost:8080/",
     "height": 51
    },
    "colab_type": "code",
    "executionInfo": {
     "elapsed": 6570,
     "status": "ok",
     "timestamp": 1581284918874,
     "user": {
      "displayName": "Donald Chan",
      "photoUrl": "",
      "userId": "04030690051259137953"
     },
     "user_tz": -480
    },
    "id": "9I9uRj5e20jA",
    "outputId": "6921d6aa-3c2d-4b39-b757-99122d42cc4e"
   },
   "outputs": [
    {
     "name": "stdout",
     "output_type": "stream",
     "text": [
      "[[42  5]\n",
      " [ 7  6]]\n"
     ]
    }
   ],
   "source": [
    "x2_sub_copy[0, 0] = 42\n",
    "print(x2_sub_copy)"
   ]
  },
  {
   "cell_type": "code",
   "execution_count": 48,
   "metadata": {
    "colab": {
     "base_uri": "https://localhost:8080/",
     "height": 68
    },
    "colab_type": "code",
    "executionInfo": {
     "elapsed": 6524,
     "status": "ok",
     "timestamp": 1581284918878,
     "user": {
      "displayName": "Donald Chan",
      "photoUrl": "",
      "userId": "04030690051259137953"
     },
     "user_tz": -480
    },
    "id": "T-uDlNPc20jG",
    "outputId": "9f923cd1-a9c5-4e24-a605-f3acbf1c6ce6"
   },
   "outputs": [
    {
     "name": "stdout",
     "output_type": "stream",
     "text": [
      "[[99  5  2  4]\n",
      " [ 7  6  8  8]\n",
      " [ 1  6  7  7]]\n"
     ]
    }
   ],
   "source": [
    "print(x2)"
   ]
  },
  {
   "cell_type": "markdown",
   "metadata": {
    "colab_type": "text",
    "id": "OOh2I62720jI"
   },
   "source": [
    "## Reshaping of Arrays\n",
    "\n",
    "Another useful type of operation is reshaping of arrays.\n",
    "The most flexible way of doing this is with the ``reshape`` method.\n",
    "For example, if you want to put the numbers 1 through 9 in a $3 \\times 3$ grid, you can do the following:"
   ]
  },
  {
   "cell_type": "code",
   "execution_count": 49,
   "metadata": {
    "colab": {
     "base_uri": "https://localhost:8080/",
     "height": 68
    },
    "colab_type": "code",
    "executionInfo": {
     "elapsed": 6500,
     "status": "ok",
     "timestamp": 1581284918880,
     "user": {
      "displayName": "Donald Chan",
      "photoUrl": "",
      "userId": "04030690051259137953"
     },
     "user_tz": -480
    },
    "id": "LR4CUHk420jJ",
    "outputId": "2873b01e-a64a-46d8-c4fd-ce07f7124c96"
   },
   "outputs": [
    {
     "name": "stdout",
     "output_type": "stream",
     "text": [
      "[[1 2 3]\n",
      " [4 5 6]\n",
      " [7 8 9]]\n"
     ]
    }
   ],
   "source": [
    "grid = np.arange(1, 10).reshape((3, 3))\n",
    "print(grid)"
   ]
  },
  {
   "cell_type": "markdown",
   "metadata": {
    "colab_type": "text",
    "id": "s7jJzxNQ20jP"
   },
   "source": [
    "Note that for this to work, the size of the initial array must match the size of the reshaped array. \n",
    "Where possible, the ``reshape`` method will use a no-copy view of the initial array, but with non-contiguous memory buffers this is not always the case.\n",
    "\n",
    "Another common reshaping pattern is the conversion of a one-dimensional array into a two-dimensional row or column matrix.\n",
    "This can be done with the ``reshape`` method, or more easily done by making use of the ``newaxis`` keyword within a slice operation:"
   ]
  },
  {
   "cell_type": "code",
   "execution_count": 11,
   "metadata": {
    "colab": {
     "base_uri": "https://localhost:8080/",
     "height": 34
    },
    "colab_type": "code",
    "executionInfo": {
     "elapsed": 6468,
     "status": "ok",
     "timestamp": 1581284918886,
     "user": {
      "displayName": "Donald Chan",
      "photoUrl": "",
      "userId": "04030690051259137953"
     },
     "user_tz": -480
    },
    "id": "MsIqaYfF20jQ",
    "outputId": "3ddee574-a108-4f60-a300-83e488873f78"
   },
   "outputs": [
    {
     "data": {
      "text/plain": [
       "array([[1, 2, 3]])"
      ]
     },
     "execution_count": 11,
     "metadata": {},
     "output_type": "execute_result"
    }
   ],
   "source": [
    "x = np.array([1, 2, 3])\n",
    "\n",
    "# row vector via reshape\n",
    "x.reshape((1, 3))"
   ]
  },
  {
   "cell_type": "code",
   "execution_count": 16,
   "metadata": {
    "colab": {
     "base_uri": "https://localhost:8080/",
     "height": 34
    },
    "colab_type": "code",
    "executionInfo": {
     "elapsed": 6497,
     "status": "ok",
     "timestamp": 1581284918939,
     "user": {
      "displayName": "Donald Chan",
      "photoUrl": "",
      "userId": "04030690051259137953"
     },
     "user_tz": -480
    },
    "id": "Vl4jRGcF20jV",
    "outputId": "541ff3b8-22d7-444d-d6c8-a6c4211fa9cf"
   },
   "outputs": [
    {
     "data": {
      "text/plain": [
       "array([[1, 2, 3]])"
      ]
     },
     "execution_count": 16,
     "metadata": {},
     "output_type": "execute_result"
    }
   ],
   "source": [
    "# row vector via newaxis\n",
    "x[np.newaxis, :]"
   ]
  },
  {
   "cell_type": "code",
   "execution_count": 52,
   "metadata": {
    "colab": {
     "base_uri": "https://localhost:8080/",
     "height": 68
    },
    "colab_type": "code",
    "executionInfo": {
     "elapsed": 6471,
     "status": "ok",
     "timestamp": 1581284918959,
     "user": {
      "displayName": "Donald Chan",
      "photoUrl": "",
      "userId": "04030690051259137953"
     },
     "user_tz": -480
    },
    "id": "FIeLRP6_20jd",
    "outputId": "aa1f23f3-1108-4d05-b387-0524524cb405"
   },
   "outputs": [
    {
     "data": {
      "text/plain": [
       "array([[1],\n",
       "       [2],\n",
       "       [3]])"
      ]
     },
     "execution_count": 52,
     "metadata": {
      "tags": []
     },
     "output_type": "execute_result"
    }
   ],
   "source": [
    "# column vector via reshape\n",
    "x.reshape((3, 1))"
   ]
  },
  {
   "cell_type": "code",
   "execution_count": 18,
   "metadata": {
    "colab": {
     "base_uri": "https://localhost:8080/",
     "height": 68
    },
    "colab_type": "code",
    "executionInfo": {
     "elapsed": 6428,
     "status": "ok",
     "timestamp": 1581284918960,
     "user": {
      "displayName": "Donald Chan",
      "photoUrl": "",
      "userId": "04030690051259137953"
     },
     "user_tz": -480
    },
    "id": "Em2lMuFQ20jq",
    "outputId": "63d2a085-2b45-4119-f348-50e084614216"
   },
   "outputs": [
    {
     "data": {
      "text/plain": [
       "array([[1],\n",
       "       [2],\n",
       "       [3]])"
      ]
     },
     "execution_count": 18,
     "metadata": {},
     "output_type": "execute_result"
    }
   ],
   "source": [
    "# column vector via newaxis\n",
    "x[:, np.newaxis]"
   ]
  },
  {
   "cell_type": "code",
   "execution_count": 24,
   "metadata": {
    "scrolled": true
   },
   "outputs": [
    {
     "data": {
      "text/plain": [
       "array([[5],\n",
       "       [6],\n",
       "       [7],\n",
       "       [8],\n",
       "       [9]])"
      ]
     },
     "execution_count": 24,
     "metadata": {},
     "output_type": "execute_result"
    }
   ],
   "source": [
    "y = np.arange(10)\n",
    "# y[np.newaxis, :]\n",
    "y[5:, np.newaxis]"
   ]
  },
  {
   "cell_type": "code",
   "execution_count": 33,
   "metadata": {
    "colab": {
     "base_uri": "https://localhost:8080/",
     "height": 136
    },
    "colab_type": "code",
    "executionInfo": {
     "elapsed": 6147,
     "status": "ok",
     "timestamp": 1581284919086,
     "user": {
      "displayName": "Donald Chan",
      "photoUrl": "",
      "userId": "04030690051259137953"
     },
     "user_tz": -480
    },
    "id": "6XWPQJe0dxHh",
    "outputId": "f6c26e53-65ef-42e7-ba03-a9f2b4cb83ea"
   },
   "outputs": [
    {
     "name": "stdout",
     "output_type": "stream",
     "text": [
      "[[ 1  2  3  4  5]\n",
      " [ 6  7  8  9 10]]\n",
      "\n",
      "axis=None: 55\n",
      "axis=0: [ 7  9 11 13 15]\n",
      "axis=1: [15 40]\n",
      "axis=-1: [15 40]\n"
     ]
    }
   ],
   "source": [
    "data = np.arange(1, 11).reshape(2, -1) # data has shape (2, 5)\n",
    "print(data)\n",
    "print()\n",
    "print('axis=None:', np.sum(data)) # prints (1+2+...+9+10)\n",
    "print('axis=0:', np.sum(data, axis=0))  # prints a np array with shape (5,). sum along the first axis. Therefore, the first element corresponds to (1+6)=7\n",
    "print('axis=1:', np.sum(data, axis=1))  # prints a np array with shape (2,). sum along the second axis. Therefore, the first element corresponds to  (1+2+3+4+5)=15\n",
    "print('axis=-1:', np.sum(data, axis=-1)) # axis=-1 mean the last axis, so it is 1 in this example. Therefore, the result is same as the expression above."
   ]
  },
  {
   "cell_type": "code",
   "execution_count": 34,
   "metadata": {},
   "outputs": [
    {
     "name": "stdout",
     "output_type": "stream",
     "text": [
      "[[[[ 0  1]\n",
      "   [ 2  3]]\n",
      "\n",
      "  [[ 4  5]\n",
      "   [ 6  7]]]\n",
      "\n",
      "\n",
      " [[[ 8  9]\n",
      "   [10 11]]\n",
      "\n",
      "  [[12 13]\n",
      "   [14 15]]]]\n",
      "\n",
      "axis=None: 120\n",
      "axis=0: [[[ 8 10]\n",
      "  [12 14]]\n",
      "\n",
      " [[16 18]\n",
      "  [20 22]]]\n",
      "axis=1: [[[ 4  6]\n",
      "  [ 8 10]]\n",
      "\n",
      " [[20 22]\n",
      "  [24 26]]]\n",
      "axis=1: [[[ 2  4]\n",
      "  [10 12]]\n",
      "\n",
      " [[18 20]\n",
      "  [26 28]]]\n",
      "axis=1: [[[ 1  5]\n",
      "  [ 9 13]]\n",
      "\n",
      " [[17 21]\n",
      "  [25 29]]]\n",
      "axis=-1: [[[ 1  5]\n",
      "  [ 9 13]]\n",
      "\n",
      " [[17 21]\n",
      "  [25 29]]]\n"
     ]
    }
   ],
   "source": [
    "data = np.arange(0, 16).reshape(2, 2, 2, 2) # data has shape (2, 5)\n",
    "print(data)\n",
    "print()\n",
    "print('axis=None:', np.sum(data)) # prints (1+2+...+9+10)\n",
    "print('axis=0:', np.sum(data, axis=0))  # prints a np array with shape (5,). sum along the first axis. Therefore, the first element corresponds to (1+6)=7\n",
    "print('axis=1:', np.sum(data, axis=1))  # prints a np array with shape (2,). sum along the second axis. Therefore, the first element corresponds to  (1+2+3+4+5)=15\n",
    "print('axis=1:', np.sum(data, axis=2))\n",
    "print('axis=1:', np.sum(data, axis=3))\n",
    "print('axis=-1:', np.sum(data, axis=-1)) # axis=-1 mean the last axis, so it is 1 in this example. Therefore, the result is same as the expression above."
   ]
  },
  {
   "cell_type": "markdown",
   "metadata": {
    "colab_type": "text",
    "id": "L58EX2GGR22I"
   },
   "source": [
    "## Axis: indicates each \"column\" of a np array.\n",
    "For the examples below, try to understand it after printing out the original \"data\"\n",
    "\n"
   ]
  },
  {
   "cell_type": "markdown",
   "metadata": {
    "colab_type": "text",
    "id": "GWcB7-YV20jy"
   },
   "source": [
    "## Array Concatenation and Splitting\n",
    "\n",
    "All of the preceding routines worked on single arrays. It's also possible to combine multiple arrays into one, and to conversely split a single array into multiple arrays. We'll take a look at those operations here."
   ]
  },
  {
   "cell_type": "markdown",
   "metadata": {
    "colab_type": "text",
    "id": "o10TzPwk20j1"
   },
   "source": [
    "### Concatenation of arrays\n",
    "\n",
    "Concatenation, or joining of two arrays in NumPy, is primarily accomplished using the routines ``np.concatenate``, ``np.vstack``, and ``np.hstack``.\n",
    "``np.concatenate`` takes a tuple or list of arrays as its first argument, as we can see here:"
   ]
  },
  {
   "cell_type": "code",
   "execution_count": 54,
   "metadata": {
    "colab": {
     "base_uri": "https://localhost:8080/",
     "height": 34
    },
    "colab_type": "code",
    "executionInfo": {
     "elapsed": 6415,
     "status": "ok",
     "timestamp": 1581284918968,
     "user": {
      "displayName": "Donald Chan",
      "photoUrl": "",
      "userId": "04030690051259137953"
     },
     "user_tz": -480
    },
    "id": "sx2ttlA420j1",
    "outputId": "873b0068-adae-4a54-bc01-6b0dbd2d792f"
   },
   "outputs": [
    {
     "data": {
      "text/plain": [
       "array([1, 2, 3, 3, 2, 1])"
      ]
     },
     "execution_count": 54,
     "metadata": {
      "tags": []
     },
     "output_type": "execute_result"
    }
   ],
   "source": [
    "x = np.array([1, 2, 3])\n",
    "y = np.array([3, 2, 1])\n",
    "np.concatenate([x, y])"
   ]
  },
  {
   "cell_type": "markdown",
   "metadata": {
    "colab_type": "text",
    "id": "hJwLpVqB20j3"
   },
   "source": [
    "You can also concatenate more than two arrays at once:"
   ]
  },
  {
   "cell_type": "code",
   "execution_count": 55,
   "metadata": {
    "colab": {
     "base_uri": "https://localhost:8080/",
     "height": 34
    },
    "colab_type": "code",
    "executionInfo": {
     "elapsed": 6388,
     "status": "ok",
     "timestamp": 1581284918969,
     "user": {
      "displayName": "Donald Chan",
      "photoUrl": "",
      "userId": "04030690051259137953"
     },
     "user_tz": -480
    },
    "id": "gVf7J-KM20j4",
    "outputId": "6c17ea9e-70f7-493d-d5a1-ea0a0a4a9581"
   },
   "outputs": [
    {
     "name": "stdout",
     "output_type": "stream",
     "text": [
      "[ 1  2  3  3  2  1 99 99 99]\n"
     ]
    }
   ],
   "source": [
    "z = [99, 99, 99]\n",
    "print(np.concatenate([x, y, z]))"
   ]
  },
  {
   "cell_type": "markdown",
   "metadata": {
    "colab_type": "text",
    "id": "4lWxXEIH20j5"
   },
   "source": [
    "It can also be used for two-dimensional arrays:"
   ]
  },
  {
   "cell_type": "code",
   "execution_count": 0,
   "metadata": {
    "colab": {},
    "colab_type": "code",
    "id": "5v-EgD5M20j6"
   },
   "outputs": [],
   "source": [
    "grid = np.array([[1, 2, 3],\n",
    "                 [4, 5, 6]])"
   ]
  },
  {
   "cell_type": "code",
   "execution_count": 57,
   "metadata": {
    "colab": {
     "base_uri": "https://localhost:8080/",
     "height": 85
    },
    "colab_type": "code",
    "executionInfo": {
     "elapsed": 6403,
     "status": "ok",
     "timestamp": 1581284919023,
     "user": {
      "displayName": "Donald Chan",
      "photoUrl": "",
      "userId": "04030690051259137953"
     },
     "user_tz": -480
    },
    "id": "x56FLNMF20j-",
    "outputId": "3de8099f-f188-4068-e7b4-ed828b0396bc"
   },
   "outputs": [
    {
     "data": {
      "text/plain": [
       "array([[1, 2, 3],\n",
       "       [4, 5, 6],\n",
       "       [1, 2, 3],\n",
       "       [4, 5, 6]])"
      ]
     },
     "execution_count": 57,
     "metadata": {
      "tags": []
     },
     "output_type": "execute_result"
    }
   ],
   "source": [
    "# concatenate along the first axis\n",
    "np.concatenate([grid, grid])"
   ]
  },
  {
   "cell_type": "code",
   "execution_count": 58,
   "metadata": {
    "colab": {
     "base_uri": "https://localhost:8080/",
     "height": 51
    },
    "colab_type": "code",
    "executionInfo": {
     "elapsed": 6381,
     "status": "ok",
     "timestamp": 1581284919032,
     "user": {
      "displayName": "Donald Chan",
      "photoUrl": "",
      "userId": "04030690051259137953"
     },
     "user_tz": -480
    },
    "id": "lkYSd0Ti20kE",
    "outputId": "355151bd-0d4d-4ef4-fb21-17f6d0a271a5"
   },
   "outputs": [
    {
     "data": {
      "text/plain": [
       "array([[1, 2, 3, 1, 2, 3],\n",
       "       [4, 5, 6, 4, 5, 6]])"
      ]
     },
     "execution_count": 58,
     "metadata": {
      "tags": []
     },
     "output_type": "execute_result"
    }
   ],
   "source": [
    "# concatenate along the second axis (zero-indexed)\n",
    "np.concatenate([grid, grid], axis=1)"
   ]
  },
  {
   "cell_type": "markdown",
   "metadata": {
    "colab_type": "text",
    "id": "w3_9PGcz20kG"
   },
   "source": [
    "For working with arrays of mixed dimensions, it can be clearer to use the ``np.vstack`` (vertical stack) and ``np.hstack`` (horizontal stack) functions:"
   ]
  },
  {
   "cell_type": "code",
   "execution_count": 59,
   "metadata": {
    "colab": {
     "base_uri": "https://localhost:8080/",
     "height": 68
    },
    "colab_type": "code",
    "executionInfo": {
     "elapsed": 6345,
     "status": "ok",
     "timestamp": 1581284919035,
     "user": {
      "displayName": "Donald Chan",
      "photoUrl": "",
      "userId": "04030690051259137953"
     },
     "user_tz": -480
    },
    "id": "xeX9giTS20kH",
    "outputId": "00f19e24-d120-4851-9243-d32e094c9d8c"
   },
   "outputs": [
    {
     "data": {
      "text/plain": [
       "array([[1, 2, 3],\n",
       "       [9, 8, 7],\n",
       "       [6, 5, 4]])"
      ]
     },
     "execution_count": 59,
     "metadata": {
      "tags": []
     },
     "output_type": "execute_result"
    }
   ],
   "source": [
    "x = np.array([1, 2, 3])\n",
    "grid = np.array([[9, 8, 7],\n",
    "                 [6, 5, 4]])\n",
    "\n",
    "# vertically stack the arrays\n",
    "np.vstack([x, grid])"
   ]
  },
  {
   "cell_type": "code",
   "execution_count": 60,
   "metadata": {
    "colab": {
     "base_uri": "https://localhost:8080/",
     "height": 51
    },
    "colab_type": "code",
    "executionInfo": {
     "elapsed": 6313,
     "status": "ok",
     "timestamp": 1581284919037,
     "user": {
      "displayName": "Donald Chan",
      "photoUrl": "",
      "userId": "04030690051259137953"
     },
     "user_tz": -480
    },
    "id": "pZGdkpjL20kP",
    "outputId": "5b5b8fce-9131-4f16-8da9-032f6d62ab23"
   },
   "outputs": [
    {
     "data": {
      "text/plain": [
       "array([[ 9,  8,  7, 99],\n",
       "       [ 6,  5,  4, 99]])"
      ]
     },
     "execution_count": 60,
     "metadata": {
      "tags": []
     },
     "output_type": "execute_result"
    }
   ],
   "source": [
    "# horizontally stack the arrays\n",
    "y = np.array([[99],\n",
    "              [99]])\n",
    "np.hstack([grid, y])"
   ]
  },
  {
   "cell_type": "markdown",
   "metadata": {
    "colab_type": "text",
    "id": "wrr6XOKK20kZ"
   },
   "source": [
    "Similary, ``np.dstack`` will stack arrays along the third axis."
   ]
  },
  {
   "cell_type": "markdown",
   "metadata": {
    "colab_type": "text",
    "id": "gZ7JAeuL20kZ"
   },
   "source": [
    "### Splitting of arrays\n",
    "\n",
    "The opposite of concatenation is splitting, which is implemented by the functions ``np.split``, ``np.hsplit``, and ``np.vsplit``.  For each of these, we can pass a list of indices giving the split points:"
   ]
  },
  {
   "cell_type": "code",
   "execution_count": 61,
   "metadata": {
    "colab": {
     "base_uri": "https://localhost:8080/",
     "height": 34
    },
    "colab_type": "code",
    "executionInfo": {
     "elapsed": 6276,
     "status": "ok",
     "timestamp": 1581284919040,
     "user": {
      "displayName": "Donald Chan",
      "photoUrl": "",
      "userId": "04030690051259137953"
     },
     "user_tz": -480
    },
    "id": "74rKyQdl20kb",
    "outputId": "d1e4c01e-6750-4475-d52b-0ae443979802"
   },
   "outputs": [
    {
     "name": "stdout",
     "output_type": "stream",
     "text": [
      "[1 2 3] [99 99] [3 2 1]\n"
     ]
    }
   ],
   "source": [
    "x = [1, 2, 3, 99, 99, 3, 2, 1]\n",
    "x1, x2, x3 = np.split(x, [3, 5]) # cut at 3rd, 5th index\n",
    "print(x1, x2, x3)"
   ]
  },
  {
   "cell_type": "markdown",
   "metadata": {
    "colab_type": "text",
    "id": "iecJNX5i20kh"
   },
   "source": [
    "Notice that *N* split-points, leads to *N + 1* subarrays.\n",
    "The related functions ``np.hsplit`` and ``np.vsplit`` are similar:"
   ]
  },
  {
   "cell_type": "code",
   "execution_count": 62,
   "metadata": {
    "colab": {
     "base_uri": "https://localhost:8080/",
     "height": 85
    },
    "colab_type": "code",
    "executionInfo": {
     "elapsed": 6246,
     "status": "ok",
     "timestamp": 1581284919049,
     "user": {
      "displayName": "Donald Chan",
      "photoUrl": "",
      "userId": "04030690051259137953"
     },
     "user_tz": -480
    },
    "id": "OJJn3QXX20ki",
    "outputId": "5db0df0d-d155-47e4-cb22-ddf2f3fb4551"
   },
   "outputs": [
    {
     "data": {
      "text/plain": [
       "array([[ 0,  1,  2,  3],\n",
       "       [ 4,  5,  6,  7],\n",
       "       [ 8,  9, 10, 11],\n",
       "       [12, 13, 14, 15]])"
      ]
     },
     "execution_count": 62,
     "metadata": {
      "tags": []
     },
     "output_type": "execute_result"
    }
   ],
   "source": [
    "grid = np.arange(16).reshape((4, 4))\n",
    "grid"
   ]
  },
  {
   "cell_type": "code",
   "execution_count": 63,
   "metadata": {
    "colab": {
     "base_uri": "https://localhost:8080/",
     "height": 85
    },
    "colab_type": "code",
    "executionInfo": {
     "elapsed": 6234,
     "status": "ok",
     "timestamp": 1581284919055,
     "user": {
      "displayName": "Donald Chan",
      "photoUrl": "",
      "userId": "04030690051259137953"
     },
     "user_tz": -480
    },
    "id": "diApzQm820kk",
    "outputId": "1f4ecdb6-5944-474a-d8fa-18decb67e83f"
   },
   "outputs": [
    {
     "name": "stdout",
     "output_type": "stream",
     "text": [
      "[[0 1 2 3]\n",
      " [4 5 6 7]]\n",
      "[[ 8  9 10 11]\n",
      " [12 13 14 15]]\n"
     ]
    }
   ],
   "source": [
    "upper, lower = np.vsplit(grid, [2])\n",
    "print(upper)\n",
    "print(lower)"
   ]
  },
  {
   "cell_type": "code",
   "execution_count": 64,
   "metadata": {
    "colab": {
     "base_uri": "https://localhost:8080/",
     "height": 153
    },
    "colab_type": "code",
    "executionInfo": {
     "elapsed": 6212,
     "status": "ok",
     "timestamp": 1581284919060,
     "user": {
      "displayName": "Donald Chan",
      "photoUrl": "",
      "userId": "04030690051259137953"
     },
     "user_tz": -480
    },
    "id": "6DpYJLJj20km",
    "outputId": "2b932b7e-686c-4786-9c1a-5bd156a2da16"
   },
   "outputs": [
    {
     "name": "stdout",
     "output_type": "stream",
     "text": [
      "[[ 0  1]\n",
      " [ 4  5]\n",
      " [ 8  9]\n",
      " [12 13]]\n",
      "[[ 2  3]\n",
      " [ 6  7]\n",
      " [10 11]\n",
      " [14 15]]\n"
     ]
    }
   ],
   "source": [
    "left, right = np.hsplit(grid, [2])\n",
    "print(left)\n",
    "print(right)"
   ]
  },
  {
   "cell_type": "markdown",
   "metadata": {
    "colab_type": "text",
    "id": "2dbmXFFA20kt"
   },
   "source": [
    "Similarly, ``np.dsplit`` will split arrays along the third axis."
   ]
  },
  {
   "cell_type": "markdown",
   "metadata": {
    "colab_type": "text",
    "id": "xDdbPKE_R4ff"
   },
   "source": [
    "## Broadcasting: numpy automatically applies element-wise\n"
   ]
  },
  {
   "cell_type": "code",
   "execution_count": 66,
   "metadata": {
    "colab": {
     "base_uri": "https://localhost:8080/",
     "height": 34
    },
    "colab_type": "code",
    "executionInfo": {
     "elapsed": 6106,
     "status": "ok",
     "timestamp": 1581284919100,
     "user": {
      "displayName": "Donald Chan",
      "photoUrl": "",
      "userId": "04030690051259137953"
     },
     "user_tz": -480
    },
    "id": "gkpNaBQlZK8R",
    "outputId": "63a93fa8-ff24-430b-e26b-d186baebfad1"
   },
   "outputs": [
    {
     "name": "stdout",
     "output_type": "stream",
     "text": [
      "[ 2  4  6  8 10 12 14 16 18]\n"
     ]
    }
   ],
   "source": [
    "x = np.arange(1, 10)\n",
    "print(x * 2) # element-wise multiplication"
   ]
  },
  {
   "cell_type": "code",
   "execution_count": 67,
   "metadata": {
    "colab": {
     "base_uri": "https://localhost:8080/",
     "height": 391
    },
    "colab_type": "code",
    "executionInfo": {
     "elapsed": 6082,
     "status": "ok",
     "timestamp": 1581284919106,
     "user": {
      "displayName": "Donald Chan",
      "photoUrl": "",
      "userId": "04030690051259137953"
     },
     "user_tz": -480
    },
    "id": "zW9h6aBCraNz",
    "outputId": "5070f19e-b47b-4302-eb42-706ef790255c"
   },
   "outputs": [
    {
     "name": "stdout",
     "output_type": "stream",
     "text": [
      "x\n",
      " [[1 2 3 4 5 6 7 8 9]]\n",
      "y\n",
      " [[1]\n",
      " [2]\n",
      " [3]\n",
      " [4]\n",
      " [5]\n",
      " [6]\n",
      " [7]\n",
      " [8]\n",
      " [9]]\n",
      "\n",
      "[[ 1  2  3  4  5  6  7  8  9]\n",
      " [ 2  4  6  8 10 12 14 16 18]\n",
      " [ 3  6  9 12 15 18 21 24 27]\n",
      " [ 4  8 12 16 20 24 28 32 36]\n",
      " [ 5 10 15 20 25 30 35 40 45]\n",
      " [ 6 12 18 24 30 36 42 48 54]\n",
      " [ 7 14 21 28 35 42 49 56 63]\n",
      " [ 8 16 24 32 40 48 56 64 72]\n",
      " [ 9 18 27 36 45 54 63 72 81]]\n"
     ]
    }
   ],
   "source": [
    "# Let's make a \"9x table\"\n",
    "x = np.arange(1, 10).reshape(1, 9)\n",
    "y = np.arange(1, 10).reshape(9, 1)\n",
    "print('x\\n', x)\n",
    "print('y\\n', y)\n",
    "print()\n",
    "print(x * y) # numpy makes a 9x table"
   ]
  },
  {
   "cell_type": "markdown",
   "metadata": {
    "colab_type": "text",
    "id": "M1RzDOiwyDk8"
   },
   "source": [
    "## One-hot encoding (using **np.eye** and **indexing**)\n",
    "\n",
    "* one-hot vector: a vector with all 0 but only one 1\n",
    "  * If there are 10 classes from 0 to 9 (e.g., MNIST), and a sample has a class 3 (i.e., 4-th class), then the corresponding one-hot vector is [0, 0, 0, 1, 0, 0, 0, 0, 0, 0]"
   ]
  },
  {
   "cell_type": "code",
   "execution_count": 36,
   "metadata": {
    "colab": {
     "base_uri": "https://localhost:8080/",
     "height": 187
    },
    "colab_type": "code",
    "executionInfo": {
     "elapsed": 6083,
     "status": "ok",
     "timestamp": 1581284919126,
     "user": {
      "displayName": "Donald Chan",
      "photoUrl": "",
      "userId": "04030690051259137953"
     },
     "user_tz": -480
    },
    "id": "LDAOan3ww5Co",
    "outputId": "90fecdf8-0ff6-435b-947e-80df14b945be"
   },
   "outputs": [
    {
     "name": "stdout",
     "output_type": "stream",
     "text": [
      "[[1. 0. 0. 0. 0. 0. 0. 0. 0. 0.]\n",
      " [0. 1. 0. 0. 0. 0. 0. 0. 0. 0.]\n",
      " [0. 0. 1. 0. 0. 0. 0. 0. 0. 0.]\n",
      " [0. 0. 0. 1. 0. 0. 0. 0. 0. 0.]\n",
      " [0. 0. 0. 0. 1. 0. 0. 0. 0. 0.]\n",
      " [0. 0. 0. 0. 0. 1. 0. 0. 0. 0.]\n",
      " [0. 0. 0. 0. 0. 0. 1. 0. 0. 0.]\n",
      " [0. 0. 0. 0. 0. 0. 0. 1. 0. 0.]\n",
      " [0. 0. 0. 0. 0. 0. 0. 0. 1. 0.]\n",
      " [0. 0. 0. 0. 0. 0. 0. 0. 0. 1.]]\n"
     ]
    }
   ],
   "source": [
    "# create an identity matrix\n",
    "one_hots = np.eye(10)\n",
    "print(one_hots) # each row represent a digit from 0 to 9 (e.g., MNIST)"
   ]
  },
  {
   "cell_type": "code",
   "execution_count": 38,
   "metadata": {
    "colab": {
     "base_uri": "https://localhost:8080/",
     "height": 51
    },
    "colab_type": "code",
    "executionInfo": {
     "elapsed": 6087,
     "status": "ok",
     "timestamp": 1581284919151,
     "user": {
      "displayName": "Donald Chan",
      "photoUrl": "",
      "userId": "04030690051259137953"
     },
     "user_tz": -480
    },
    "id": "CwaTVhRsxDRA",
    "outputId": "b91e5b5a-fa81-49e9-b633-43398a905727"
   },
   "outputs": [
    {
     "name": "stdout",
     "output_type": "stream",
     "text": [
      "[0, 3] \n",
      "\n",
      "[[1. 0. 0. 0. 0. 0. 0. 0. 0. 0.]\n",
      " [0. 0. 0. 1. 0. 0. 0. 0. 0. 0.]]\n"
     ]
    }
   ],
   "source": [
    "# let's say we want to get the one-hot vectors of class 0 and 3\n",
    "classes = np.array([0, 3])\n",
    "classes = [0, 3]\n",
    "print(classes, \"\\n\")\n",
    "print(one_hots[classes])"
   ]
  },
  {
   "cell_type": "code",
   "execution_count": null,
   "metadata": {},
   "outputs": [],
   "source": []
  }
 ],
 "metadata": {
  "colab": {
   "collapsed_sections": [],
   "name": "Tutorial 1. Main - Python 3, NumPy.ipynb",
   "provenance": [],
   "toc_visible": true
  },
  "kernelspec": {
   "display_name": "Python 3",
   "language": "python",
   "name": "python3"
  },
  "language_info": {
   "codemirror_mode": {
    "name": "ipython",
    "version": 3
   },
   "file_extension": ".py",
   "mimetype": "text/x-python",
   "name": "python",
   "nbconvert_exporter": "python",
   "pygments_lexer": "ipython3",
   "version": "3.6.8"
  }
 },
 "nbformat": 4,
 "nbformat_minor": 1
}
