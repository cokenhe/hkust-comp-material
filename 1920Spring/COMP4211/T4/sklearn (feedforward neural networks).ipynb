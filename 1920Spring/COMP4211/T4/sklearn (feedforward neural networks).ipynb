{
 "cells": [
  {
   "cell_type": "markdown",
   "metadata": {},
   "source": [
    "# COMP4211 Tutorial: Sklearn (feedforward neural networks)\n",
    "\n",
    "<p style=\"text-align: left;\">\n",
    "TA: James<br \\>\n",
    "thcheungae@cse.ust.hk<br \\>\n",
    "16 March 2020 (Mon)<br \\>\n",
    "<url> https://hkust.zoom.us/j/570617804 </url>\n",
    "</p>"
   ]
  },
  {
   "cell_type": "markdown",
   "metadata": {},
   "source": [
    "## Objective\n",
    "- Build a preceptron model\n",
    "- Build a multilayer preceptron model\n",
    "- Spliting data into train, validation and test\n",
    "- Tune the hyperparameters using RandomSearch\n",
    "- Model Saving and Loading\n"
   ]
  },
  {
   "cell_type": "markdown",
   "metadata": {},
   "source": [
    "## Single Preceptron Classifier\n",
    "\n",
    "![Image](./img/preceptron.png)\n",
    "\n",
    "A synthetic dataset"
   ]
  },
  {
   "cell_type": "code",
   "execution_count": 1,
   "metadata": {},
   "outputs": [
    {
     "name": "stdout",
     "output_type": "stream",
     "text": [
      "X: [[-0.64710246 -0.13248588]\n",
      " [-0.01755153 -0.84912994]\n",
      " [-0.67010608 -2.35182561]\n",
      " [-1.05628487 -0.08248651]\n",
      " [ 1.24256423 -0.31060961]\n",
      " [-0.7807143   1.32218203]\n",
      " [-0.76542848 -1.28950516]\n",
      " [-0.77360943 -0.21251355]\n",
      " [-0.44228055  0.79141975]\n",
      " [-0.25026012  0.80242032]], \n",
      "y: [1 1 0 1 1 0 0 1 1 1]\n"
     ]
    }
   ],
   "source": [
    "import warnings\n",
    "from sklearn.exceptions import ConvergenceWarning\n",
    "warnings.catch_warnings()\n",
    "warnings.filterwarnings(\"ignore\", category=ConvergenceWarning,\n",
    "                        module=\"sklearn\")\n",
    "\n",
    "from sklearn.datasets import make_circles\n",
    "from sklearn.preprocessing import StandardScaler\n",
    "\n",
    "X,y = make_circles(noise=0.2, factor=0.5, random_state=1)\n",
    "X = StandardScaler().fit_transform(X)\n",
    "\n",
    "print(f'X: {X[:10]}, \\ny: {y[:10]}')"
   ]
  },
  {
   "cell_type": "markdown",
   "metadata": {},
   "source": [
    "Model  Definition"
   ]
  },
  {
   "cell_type": "code",
   "execution_count": 2,
   "metadata": {},
   "outputs": [
    {
     "name": "stdout",
     "output_type": "stream",
     "text": [
      "-- Epoch 1\n",
      "Norm: 2.19, NNZs: 2, Bias: 0.000000, T: 100, Avg. loss: 0.823621\n",
      "Total training time: 0.00 seconds.\n",
      "-- Epoch 2\n",
      "Norm: 0.38, NNZs: 2, Bias: 1.000000, T: 200, Avg. loss: 0.874459\n",
      "Total training time: 0.00 seconds.\n",
      "-- Epoch 3\n",
      "Norm: 2.37, NNZs: 2, Bias: 0.000000, T: 300, Avg. loss: 0.855455\n",
      "Total training time: 0.00 seconds.\n",
      "-- Epoch 4\n",
      "Norm: 0.89, NNZs: 2, Bias: 1.000000, T: 400, Avg. loss: 0.896355\n",
      "Total training time: 0.00 seconds.\n",
      "-- Epoch 5\n",
      "Norm: 0.06, NNZs: 2, Bias: 0.000000, T: 500, Avg. loss: 0.807215\n",
      "Total training time: 0.00 seconds.\n",
      "-- Epoch 6\n",
      "Norm: 2.02, NNZs: 2, Bias: 0.000000, T: 600, Avg. loss: 0.828013\n",
      "Total training time: 0.00 seconds.\n",
      "Convergence after 6 epochs took 0.00 seconds\n",
      "\n",
      "Training Accuracy: 0.49\n"
     ]
    }
   ],
   "source": [
    "# Documentation: https://scikit-learn.org/stable/modules/generated/sklearn.linear_model.Perceptron.html\n",
    "from sklearn.linear_model import Perceptron\n",
    "\n",
    "clf = Perceptron(eta0=1.0, max_iter=100, tol=0.19, shuffle=True, verbose=1)\n",
    "clf.fit(X, y)\n",
    "\n",
    "print()\n",
    "print(f'Training Accuracy: {clf.score(X, y)}')"
   ]
  },
  {
   "cell_type": "markdown",
   "metadata": {},
   "source": [
    "Decision boundary of single preceptron"
   ]
  },
  {
   "cell_type": "code",
   "execution_count": 3,
   "metadata": {
    "code_folding": []
   },
   "outputs": [
    {
     "data": {
      "image/png": "[encoded data removed]",
      "text/plain": [
       "<Figure size 432x288 with 1 Axes>"
      ]
     },
     "metadata": {},
     "output_type": "display_data"
    }
   ],
   "source": [
    "## Code for visualizing decision boundary\n",
    "\n",
    "from matplotlib.colors import ListedColormap\n",
    "import matplotlib.pyplot as plt\n",
    "%matplotlib inline\n",
    "\n",
    "x_min, x_max = X[:, 0].min() - .5, X[:, 0].max() + .5\n",
    "y_min, y_max = X[:, 1].min() - .5, X[:, 1].max() + .5\n",
    "h = 0.2\n",
    "xx, yy = np.meshgrid(np.arange(x_min, x_max, h),\n",
    "                     np.arange(y_min, y_max, h))\n",
    "cm = plt.cm.RdBu\n",
    "cm_bright = ListedColormap(['#FF0000', '#0000FF'])\n",
    "\n",
    "Z = clf.decision_function(np.c_[xx.ravel(), yy.ravel()])\n",
    "Z = Z.reshape(xx.shape)\n",
    "\n",
    "plt.contourf(xx, yy, Z, cmap=cm, alpha=.8)\n",
    "plt.scatter(X[:, 0], X[:, 1], c=y, cmap=cm_bright,\n",
    "           edgecolors='k')\n",
    "\n",
    "plt.xlim(xx.min(), xx.max())\n",
    "plt.ylim(yy.min(), yy.max())\n",
    "plt.xticks(())\n",
    "plt.yticks(())\n",
    "\n",
    "plt.show()"
   ]
  },
  {
   "cell_type": "markdown",
   "metadata": {},
   "source": [
    "# Multilayer Preceptron\n",
    "\n",
    "A single preceptron is not very interesting. It can only fit linearily-separable data. Now, let's look at the multilayer preceptron classifier (MLP) / artificial neural network (ANN) / neural network(NN)\n",
    "\n",
    "![Image](./img/mlp.png)\n",
    "\n",
    "<div class=\"alert alert-info\"><p>\n",
    "    \n",
    "**Note**\n",
    "  -  ``train_test_split`` - Splits full dataset into train and test sets\n",
    "  -  ``MinMaxScaler`` - Transform features by scaling each feature to a given range\n"
   ]
  },
  {
   "cell_type": "code",
   "execution_count": 4,
   "metadata": {},
   "outputs": [
    {
     "name": "stdout",
     "output_type": "stream",
     "text": [
      "Full Train Set:\t (898, 64)\n",
      "|Train Set:\t (628, 64)\n",
      "|Validation Set: (270, 64)\n",
      "\n",
      "Test Set:\t (899, 64)\n",
      "\n",
      "Training Examples\n"
     ]
    },
    {
     "data": {
      "image/png": "[encoded data removed]",
      "text/plain": [
       "<Figure size 432x288 with 4 Axes>"
      ]
     },
     "metadata": {
      "needs_background": "light"
     },
     "output_type": "display_data"
    }
   ],
   "source": [
    "# Import datasets, classifiers and performance metrics\n",
    "from sklearn import datasets, metrics\n",
    "from sklearn.model_selection import train_test_split\n",
    "from sklearn.neural_network import MLPClassifier\n",
    "from sklearn.preprocessing import MinMaxScaler\n",
    "\n",
    "digits = datasets.load_digits()\n",
    "\n",
    "# To apply a classifier on this data, we need to flatten the image, to\n",
    "# turn the data in a (samples, feature) matrix:\n",
    "n_samples = len(digits.images)\n",
    "data = digits.images.reshape((n_samples, -1))\n",
    "\n",
    "# Preprocessing\n",
    "data = MinMaxScaler().fit_transform(data)\n",
    "\n",
    "# Split data into train and test subsets\n",
    "X_all, X_test, y_all, y_test = train_test_split(\n",
    "    data, digits.target, test_size=0.5, random_state=4211, shuffle=True)\n",
    "\n",
    "# Further split data into train and validation subsets\n",
    "X_train, X_valid, y_train, y_valid = train_test_split(\n",
    "    X_all, y_all, test_size=0.3, random_state=4211, shuffle=True)\n",
    "\n",
    "print(f'Full Train Set:\\t {X_all.shape}')\n",
    "print(f'|Train Set:\\t {X_train.shape}')\n",
    "print(f'|Validation Set: {X_valid.shape}')\n",
    "print()\n",
    "print(f'Test Set:\\t {X_test.shape}')\n",
    "print()\n",
    "print('Training Examples')\n",
    "images_and_labels = list(zip(X_train, y_train))\n",
    "for index, (image, label) in enumerate(images_and_labels[:4]):\n",
    "    plt.subplot(2, 4, index + 1)\n",
    "    plt.axis('off')\n",
    "    image = image.reshape((8,8))\n",
    "    plt.imshow(image, cmap=plt.cm.gray_r, interpolation='nearest')\n",
    "    plt.title('Training: %i' % label)\n",
    "plt.show()"
   ]
  },
  {
   "cell_type": "markdown",
   "metadata": {},
   "source": [
    "### Training"
   ]
  },
  {
   "cell_type": "code",
   "execution_count": 5,
   "metadata": {},
   "outputs": [
    {
     "name": "stdout",
     "output_type": "stream",
     "text": [
      "Iteration 1, loss = 2.42308873\n",
      "Iteration 2, loss = 2.17712042\n",
      "Iteration 3, loss = 2.00233169\n",
      "Iteration 4, loss = 1.75864880\n",
      "Iteration 5, loss = 1.49337361\n",
      "Iteration 6, loss = 1.20872039\n",
      "Iteration 7, loss = 0.94731884\n",
      "Iteration 8, loss = 0.74255128\n",
      "Iteration 9, loss = 0.59914529\n",
      "Iteration 10, loss = 0.48940109\n",
      "Iteration 11, loss = 0.41219818\n",
      "Iteration 12, loss = 0.35749141\n",
      "Iteration 13, loss = 0.31608207\n",
      "Iteration 14, loss = 0.26864412\n",
      "Iteration 15, loss = 0.25774055\n",
      "Iteration 16, loss = 0.23286717\n",
      "Iteration 17, loss = 0.20151994\n",
      "Iteration 18, loss = 0.17620453\n",
      "Iteration 19, loss = 0.16408206\n",
      "Iteration 20, loss = 0.16724281\n"
     ]
    },
    {
     "data": {
      "text/plain": [
       "MLPClassifier(activation='relu', alpha=0.0001, batch_size='auto', beta_1=0.9,\n",
       "              beta_2=0.999, early_stopping=False, epsilon=1e-08,\n",
       "              hidden_layer_sizes=(20,), learning_rate='constant',\n",
       "              learning_rate_init=0.1, max_fun=15000, max_iter=20, momentum=0.9,\n",
       "              n_iter_no_change=10, nesterovs_momentum=True, power_t=0.5,\n",
       "              random_state=None, shuffle=True, solver='sgd', tol=0.0001,\n",
       "              validation_fraction=0.1, verbose=True, warm_start=False)"
      ]
     },
     "execution_count": 5,
     "metadata": {},
     "output_type": "execute_result"
    }
   ],
   "source": [
    "mlp = MLPClassifier(hidden_layer_sizes=(20, ), solver='sgd', \n",
    "                    learning_rate_init=0.1, max_iter=20, verbose=True)\n",
    "\n",
    "# We learn the digits on train set\n",
    "mlp.fit(X_train, y_train)"
   ]
  },
  {
   "cell_type": "markdown",
   "metadata": {},
   "source": [
    "### Observe the performance"
   ]
  },
  {
   "cell_type": "code",
   "execution_count": 6,
   "metadata": {},
   "outputs": [
    {
     "name": "stdout",
     "output_type": "stream",
     "text": [
      "Train set\n",
      "| score: 0.958599\n",
      "| loss: 0.167243\n",
      "Validation set\n",
      "| score: 0.911111\n",
      "Test set\n",
      "| score: 0.903226\n"
     ]
    },
    {
     "data": {
      "image/png": "[encoded data removed]",
      "text/plain": [
       "<Figure size 432x288 with 1 Axes>"
      ]
     },
     "metadata": {
      "needs_background": "light"
     },
     "output_type": "display_data"
    }
   ],
   "source": [
    "print(\"Train set\")\n",
    "print(\"| score: %f\" % mlp.score(X_train, y_train))\n",
    "print(\"| loss: %f\" % mlp.loss_)\n",
    "\n",
    "print(\"Validation set\\n| score: %f\" % mlp.score(X_valid, y_valid))\n",
    "print(\"Test set\\n| score: %f\" % mlp.score(X_test, y_test))\n",
    "\n",
    "plt.plot(mlp.loss_curve_)\n",
    "plt.title('Training Loss History')\n",
    "plt.xlabel('Iteration')\n",
    "plt.ylabel('loss')\n",
    "plt.show()"
   ]
  },
  {
   "cell_type": "markdown",
   "metadata": {},
   "source": [
    "## Hyperparamerter Search\n",
    "Based on the observation on the **train** and **validation** set, we can make changes to the hyperparameters for better performance\n",
    "\n",
    "- training -> validate -> change hyperparameters -> training -> ...  \n",
    "- training(both train set and validatoin set) -> test"
   ]
  },
  {
   "cell_type": "code",
   "execution_count": 7,
   "metadata": {},
   "outputs": [
    {
     "name": "stdout",
     "output_type": "stream",
     "text": [
      "training: constant learning-rate\n",
      "Training set score: 0.871019\n",
      "Validation set score: 0.849206\n",
      "training: constant with momentum\n",
      "Training set score: 0.969745\n",
      "Validation set score: 0.920635\n",
      "training: constant with Nesterov's momentum\n",
      "Training set score: 0.974522\n",
      "Validation set score: 0.904762\n",
      "training: inv-scaling learning-rate\n",
      "Training set score: 0.227707\n",
      "Validation set score: 0.222222\n",
      "training: inv-scaling with momentum\n",
      "Training set score: 0.678344\n",
      "Validation set score: 0.634921\n",
      "training: inv-scaling with Nesterov's momentum\n",
      "Training set score: 0.606688\n",
      "Validation set score: 0.571429\n",
      "training: adam\n",
      "Training set score: 0.941083\n",
      "Validation set score: 0.904762\n"
     ]
    },
    {
     "data": {
      "image/png": "[encoded data removed]",
      "text/plain": [
       "<Figure size 720x576 with 1 Axes>"
      ]
     },
     "metadata": {
      "needs_background": "light"
     },
     "output_type": "display_data"
    }
   ],
   "source": [
    "# different learning rate schedules and momentum parameters\n",
    "params = [{'solver': 'sgd', 'learning_rate': 'constant', 'momentum': 0,\n",
    "           'learning_rate_init': 0.2},\n",
    "          {'solver': 'sgd', 'learning_rate': 'constant', 'momentum': .9,\n",
    "           'nesterovs_momentum': False, 'learning_rate_init': 0.2},\n",
    "          {'solver': 'sgd', 'learning_rate': 'constant', 'momentum': .9,\n",
    "           'nesterovs_momentum': True, 'learning_rate_init': 0.2},\n",
    "          {'solver': 'sgd', 'learning_rate': 'invscaling', 'momentum': 0,\n",
    "           'learning_rate_init': 0.2},\n",
    "          {'solver': 'sgd', 'learning_rate': 'invscaling', 'momentum': .9,\n",
    "           'nesterovs_momentum': True, 'learning_rate_init': 0.2},\n",
    "          {'solver': 'sgd', 'learning_rate': 'invscaling', 'momentum': .9,\n",
    "           'nesterovs_momentum': False, 'learning_rate_init': 0.2},\n",
    "          {'solver': 'adam', 'learning_rate_init': 0.01}]\n",
    "\n",
    "labels = [\"constant learning-rate\", \"constant with momentum\",\n",
    "          \"constant with Nesterov's momentum\",\n",
    "          \"inv-scaling learning-rate\", \"inv-scaling with momentum\",\n",
    "          \"inv-scaling with Nesterov's momentum\", \"adam\"]\n",
    "\n",
    "plot_args = [{'c': 'red', 'linestyle': '-'},\n",
    "             {'c': 'green', 'linestyle': '-'},\n",
    "             {'c': 'blue', 'linestyle': '-'},\n",
    "             {'c': 'red', 'linestyle': '--'},\n",
    "             {'c': 'green', 'linestyle': '--'},\n",
    "             {'c': 'blue', 'linestyle': '--'},\n",
    "             {'c': 'black', 'linestyle': '-'}]\n",
    "\n",
    "\n",
    "def plot_on_dataset(X, y):\n",
    "    plt.title('Loss History')\n",
    "    mlps = []\n",
    "\n",
    "\n",
    "    for label, param in zip(labels, params):\n",
    "        print(\"training: %s\" % label)\n",
    "        mlp = MLPClassifier(hidden_layer_sizes=(20, ), random_state=4211,\n",
    "                            max_iter=20, early_stopping=True,\n",
    "                            validation_fraction=0.2, **param)\n",
    "        mlp.fit(X, y)\n",
    "        mlps.append(mlp)\n",
    "        print(\"Training set score: %f\" % mlp.score(X_train, y_train))\n",
    "        print(\"Validation set score: %f\" % mlp.validation_scores_[-1])\n",
    "    for mlp, label, args in zip(mlps, labels, plot_args):\n",
    "        plt.plot(mlp.loss_curve_, label=label, **args)\n",
    "\n",
    "plt.figure(figsize=(10,8))\n",
    "plot_on_dataset(X_train, y_train)\n",
    "plt.legend()\n",
    "plt.show()"
   ]
  },
  {
   "cell_type": "code",
   "execution_count": 9,
   "metadata": {},
   "outputs": [
    {
     "name": "stdout",
     "output_type": "stream",
     "text": [
      "Training set score: 0.974522\n",
      "Test set score: 0.942158\n"
     ]
    }
   ],
   "source": [
    "mlp = MLPClassifier(hidden_layer_sizes=(20, ), random_state=4211,\n",
    "                            max_iter=20, **params[-1])\n",
    "mlp.fit(X_all, y_all)\n",
    "\n",
    "print(\"Training set score: %f\" % mlp.score(X_train, y_train))\n",
    "print(\"Test set score: %f\" % mlp.score(X_test, y_test))"
   ]
  },
  {
   "cell_type": "markdown",
   "metadata": {},
   "source": [
    "## Hyperparameter Search Library\n",
    "\n",
    "As observed, different settings (hyperparameters) of a model affects the training and performance. However, it is tedious to list out all combinations of hyperparameters. In addition, using the training score to tune the hyperparameters can lead to __overfit__, thus, we usually employ a __validation set__ to evaluate the model and find the hyperparameters that maximizes the validation accuracy. ``GridSearchCV`` and ``RandomizedSearchCV`` are two handy functions to achieve these.\n",
    "\n",
    "![Image](./img/model_selection.png)\n",
    "\n",
    "<div class=\"alert alert-info\"><p>\n",
    "    \n",
    "**Note:**\n",
    "  -  ``model_selection.GridSearchCV`` - Exhaustive search over specified parameter values for an estimator.\n",
    "  -  ``model_selection.RandomizedSearchCV`` - Randomized search on hyperparameters\n"
   ]
  },
  {
   "cell_type": "code",
   "execution_count": 10,
   "metadata": {},
   "outputs": [],
   "source": [
    "# Utility function to report best scores\n",
    "def report(results, n_top=5):\n",
    "    for i in range(1, n_top + 1):\n",
    "        candidates = np.flatnonzero(results['rank_test_score'] == i)\n",
    "        for candidate in candidates:\n",
    "            print(\"Model with rank: {0}\".format(i))\n",
    "            print(\"Mean validation score: {0:.3f} (std: {1:.3f})\"\n",
    "                  .format(results['mean_test_score'][candidate],\n",
    "                          results['std_test_score'][candidate]))\n",
    "            print(\"Parameters: {0}\".format(results['params'][candidate]))\n",
    "            print(\"\")"
   ]
  },
  {
   "cell_type": "code",
   "execution_count": 11,
   "metadata": {
    "scrolled": true
   },
   "outputs": [
    {
     "name": "stdout",
     "output_type": "stream",
     "text": [
      "Fitting 5 folds for each of 20 candidates, totalling 100 fits\n",
      "[CV] activation=tanh, hidden_layer_sizes=(15, 5), learning_rate=adaptive, learning_rate_init=0.29487281241491625, solver=adam \n",
      "[CV]  activation=tanh, hidden_layer_sizes=(15, 5), learning_rate=adaptive, learning_rate_init=0.29487281241491625, solver=adam, score=0.689, total=   0.1s\n",
      "[CV] activation=tanh, hidden_layer_sizes=(15, 5), learning_rate=adaptive, learning_rate_init=0.29487281241491625, solver=adam \n",
      "[CV]  activation=tanh, hidden_layer_sizes=(15, 5), learning_rate=adaptive, learning_rate_init=0.29487281241491625, solver=adam, score=0.628, total=   0.1s\n",
      "[CV] activation=tanh, hidden_layer_sizes=(15, 5), learning_rate=adaptive, learning_rate_init=0.29487281241491625, solver=adam \n"
     ]
    },
    {
     "name": "stderr",
     "output_type": "stream",
     "text": [
      "[Parallel(n_jobs=1)]: Using backend SequentialBackend with 1 concurrent workers.\n",
      "[Parallel(n_jobs=1)]: Done   1 out of   1 | elapsed:    0.1s remaining:    0.0s\n",
      "[Parallel(n_jobs=1)]: Done   2 out of   2 | elapsed:    0.2s remaining:    0.0s\n"
     ]
    },
    {
     "name": "stdout",
     "output_type": "stream",
     "text": [
      "[CV]  activation=tanh, hidden_layer_sizes=(15, 5), learning_rate=adaptive, learning_rate_init=0.29487281241491625, solver=adam, score=0.200, total=   0.1s\n",
      "[CV] activation=tanh, hidden_layer_sizes=(15, 5), learning_rate=adaptive, learning_rate_init=0.29487281241491625, solver=adam \n",
      "[CV]  activation=tanh, hidden_layer_sizes=(15, 5), learning_rate=adaptive, learning_rate_init=0.29487281241491625, solver=adam, score=0.106, total=   0.1s\n",
      "[CV] activation=tanh, hidden_layer_sizes=(15, 5), learning_rate=adaptive, learning_rate_init=0.29487281241491625, solver=adam \n",
      "[CV]  activation=tanh, hidden_layer_sizes=(15, 5), learning_rate=adaptive, learning_rate_init=0.29487281241491625, solver=adam, score=0.520, total=   0.1s\n",
      "[CV] activation=relu, hidden_layer_sizes=(15, 5), learning_rate=adaptive, learning_rate_init=0.09135305804543975, solver=sgd \n",
      "[CV]  activation=relu, hidden_layer_sizes=(15, 5), learning_rate=adaptive, learning_rate_init=0.09135305804543975, solver=sgd, score=0.917, total=   0.4s\n",
      "[CV] activation=relu, hidden_layer_sizes=(15, 5), learning_rate=adaptive, learning_rate_init=0.09135305804543975, solver=sgd \n",
      "[CV]  activation=relu, hidden_layer_sizes=(15, 5), learning_rate=adaptive, learning_rate_init=0.09135305804543975, solver=sgd, score=0.933, total=   0.3s\n",
      "[CV] activation=relu, hidden_layer_sizes=(15, 5), learning_rate=adaptive, learning_rate_init=0.09135305804543975, solver=sgd \n",
      "[CV]  activation=relu, hidden_layer_sizes=(15, 5), learning_rate=adaptive, learning_rate_init=0.09135305804543975, solver=sgd, score=0.894, total=   0.3s\n",
      "[CV] activation=relu, hidden_layer_sizes=(15, 5), learning_rate=adaptive, learning_rate_init=0.09135305804543975, solver=sgd \n",
      "[CV]  activation=relu, hidden_layer_sizes=(15, 5), learning_rate=adaptive, learning_rate_init=0.09135305804543975, solver=sgd, score=0.905, total=   0.3s\n",
      "[CV] activation=relu, hidden_layer_sizes=(15, 5), learning_rate=adaptive, learning_rate_init=0.09135305804543975, solver=sgd \n",
      "[CV]  activation=relu, hidden_layer_sizes=(15, 5), learning_rate=adaptive, learning_rate_init=0.09135305804543975, solver=sgd, score=0.922, total=   0.3s\n",
      "[CV] activation=relu, hidden_layer_sizes=(10, 10), learning_rate=constant, learning_rate_init=0.01222734738917019, solver=sgd \n",
      "[CV]  activation=relu, hidden_layer_sizes=(10, 10), learning_rate=constant, learning_rate_init=0.01222734738917019, solver=sgd, score=0.928, total=   0.3s\n",
      "[CV] activation=relu, hidden_layer_sizes=(10, 10), learning_rate=constant, learning_rate_init=0.01222734738917019, solver=sgd \n",
      "[CV]  activation=relu, hidden_layer_sizes=(10, 10), learning_rate=constant, learning_rate_init=0.01222734738917019, solver=sgd, score=0.889, total=   0.3s\n",
      "[CV] activation=relu, hidden_layer_sizes=(10, 10), learning_rate=constant, learning_rate_init=0.01222734738917019, solver=sgd \n",
      "[CV]  activation=relu, hidden_layer_sizes=(10, 10), learning_rate=constant, learning_rate_init=0.01222734738917019, solver=sgd, score=0.922, total=   0.3s\n",
      "[CV] activation=relu, hidden_layer_sizes=(10, 10), learning_rate=constant, learning_rate_init=0.01222734738917019, solver=sgd \n",
      "[CV]  activation=relu, hidden_layer_sizes=(10, 10), learning_rate=constant, learning_rate_init=0.01222734738917019, solver=sgd, score=0.933, total=   0.3s\n",
      "[CV] activation=relu, hidden_layer_sizes=(10, 10), learning_rate=constant, learning_rate_init=0.01222734738917019, solver=sgd \n",
      "[CV]  activation=relu, hidden_layer_sizes=(10, 10), learning_rate=constant, learning_rate_init=0.01222734738917019, solver=sgd, score=0.961, total=   0.3s\n",
      "[CV] activation=tanh, hidden_layer_sizes=(10, 10), learning_rate=invscaling, learning_rate_init=0.003924791627315532, solver=sgd \n",
      "[CV]  activation=tanh, hidden_layer_sizes=(10, 10), learning_rate=invscaling, learning_rate_init=0.003924791627315532, solver=sgd, score=0.156, total=   0.3s\n",
      "[CV] activation=tanh, hidden_layer_sizes=(10, 10), learning_rate=invscaling, learning_rate_init=0.003924791627315532, solver=sgd \n",
      "[CV]  activation=tanh, hidden_layer_sizes=(10, 10), learning_rate=invscaling, learning_rate_init=0.003924791627315532, solver=sgd, score=0.072, total=   0.1s\n",
      "[CV] activation=tanh, hidden_layer_sizes=(10, 10), learning_rate=invscaling, learning_rate_init=0.003924791627315532, solver=sgd \n",
      "[CV]  activation=tanh, hidden_layer_sizes=(10, 10), learning_rate=invscaling, learning_rate_init=0.003924791627315532, solver=sgd, score=0.139, total=   0.2s\n",
      "[CV] activation=tanh, hidden_layer_sizes=(10, 10), learning_rate=invscaling, learning_rate_init=0.003924791627315532, solver=sgd \n",
      "[CV]  activation=tanh, hidden_layer_sizes=(10, 10), learning_rate=invscaling, learning_rate_init=0.003924791627315532, solver=sgd, score=0.134, total=   0.3s\n",
      "[CV] activation=tanh, hidden_layer_sizes=(10, 10), learning_rate=invscaling, learning_rate_init=0.003924791627315532, solver=sgd \n",
      "[CV]  activation=tanh, hidden_layer_sizes=(10, 10), learning_rate=invscaling, learning_rate_init=0.003924791627315532, solver=sgd, score=0.151, total=   0.3s\n",
      "[CV] activation=tanh, hidden_layer_sizes=(20,), learning_rate=constant, learning_rate_init=0.3423802802607993, solver=adam \n",
      "[CV]  activation=tanh, hidden_layer_sizes=(20,), learning_rate=constant, learning_rate_init=0.3423802802607993, solver=adam, score=0.889, total=   0.1s\n",
      "[CV] activation=tanh, hidden_layer_sizes=(20,), learning_rate=constant, learning_rate_init=0.3423802802607993, solver=adam \n",
      "[CV]  activation=tanh, hidden_layer_sizes=(20,), learning_rate=constant, learning_rate_init=0.3423802802607993, solver=adam, score=0.844, total=   0.1s\n",
      "[CV] activation=tanh, hidden_layer_sizes=(20,), learning_rate=constant, learning_rate_init=0.3423802802607993, solver=adam \n",
      "[CV]  activation=tanh, hidden_layer_sizes=(20,), learning_rate=constant, learning_rate_init=0.3423802802607993, solver=adam, score=0.656, total=   0.1s\n",
      "[CV] activation=tanh, hidden_layer_sizes=(20,), learning_rate=constant, learning_rate_init=0.3423802802607993, solver=adam \n",
      "[CV]  activation=tanh, hidden_layer_sizes=(20,), learning_rate=constant, learning_rate_init=0.3423802802607993, solver=adam, score=0.866, total=   0.1s\n",
      "[CV] activation=tanh, hidden_layer_sizes=(20,), learning_rate=constant, learning_rate_init=0.3423802802607993, solver=adam \n",
      "[CV]  activation=tanh, hidden_layer_sizes=(20,), learning_rate=constant, learning_rate_init=0.3423802802607993, solver=adam, score=0.380, total=   0.1s\n",
      "[CV] activation=tanh, hidden_layer_sizes=(15, 5), learning_rate=constant, learning_rate_init=0.007956482896736831, solver=adam \n",
      "[CV]  activation=tanh, hidden_layer_sizes=(15, 5), learning_rate=constant, learning_rate_init=0.007956482896736831, solver=adam, score=0.928, total=   0.4s\n",
      "[CV] activation=tanh, hidden_layer_sizes=(15, 5), learning_rate=constant, learning_rate_init=0.007956482896736831, solver=adam \n",
      "[CV]  activation=tanh, hidden_layer_sizes=(15, 5), learning_rate=constant, learning_rate_init=0.007956482896736831, solver=adam, score=0.911, total=   0.4s\n",
      "[CV] activation=tanh, hidden_layer_sizes=(15, 5), learning_rate=constant, learning_rate_init=0.007956482896736831, solver=adam \n",
      "[CV]  activation=tanh, hidden_layer_sizes=(15, 5), learning_rate=constant, learning_rate_init=0.007956482896736831, solver=adam, score=0.972, total=   0.4s\n",
      "[CV] activation=tanh, hidden_layer_sizes=(15, 5), learning_rate=constant, learning_rate_init=0.007956482896736831, solver=adam \n",
      "[CV]  activation=tanh, hidden_layer_sizes=(15, 5), learning_rate=constant, learning_rate_init=0.007956482896736831, solver=adam, score=0.933, total=   0.4s\n",
      "[CV] activation=tanh, hidden_layer_sizes=(15, 5), learning_rate=constant, learning_rate_init=0.007956482896736831, solver=adam \n",
      "[CV]  activation=tanh, hidden_layer_sizes=(15, 5), learning_rate=constant, learning_rate_init=0.007956482896736831, solver=adam, score=0.955, total=   0.4s\n",
      "[CV] activation=tanh, hidden_layer_sizes=(20,), learning_rate=invscaling, learning_rate_init=0.049406455066093334, solver=adam \n",
      "[CV]  activation=tanh, hidden_layer_sizes=(20,), learning_rate=invscaling, learning_rate_init=0.049406455066093334, solver=adam, score=0.961, total=   0.1s\n",
      "[CV] activation=tanh, hidden_layer_sizes=(20,), learning_rate=invscaling, learning_rate_init=0.049406455066093334, solver=adam \n",
      "[CV]  activation=tanh, hidden_layer_sizes=(20,), learning_rate=invscaling, learning_rate_init=0.049406455066093334, solver=adam, score=0.967, total=   0.1s\n",
      "[CV] activation=tanh, hidden_layer_sizes=(20,), learning_rate=invscaling, learning_rate_init=0.049406455066093334, solver=adam \n"
     ]
    },
    {
     "name": "stdout",
     "output_type": "stream",
     "text": [
      "[CV]  activation=tanh, hidden_layer_sizes=(20,), learning_rate=invscaling, learning_rate_init=0.049406455066093334, solver=adam, score=0.961, total=   0.1s\n",
      "[CV] activation=tanh, hidden_layer_sizes=(20,), learning_rate=invscaling, learning_rate_init=0.049406455066093334, solver=adam \n",
      "[CV]  activation=tanh, hidden_layer_sizes=(20,), learning_rate=invscaling, learning_rate_init=0.049406455066093334, solver=adam, score=0.983, total=   0.1s\n",
      "[CV] activation=tanh, hidden_layer_sizes=(20,), learning_rate=invscaling, learning_rate_init=0.049406455066093334, solver=adam \n",
      "[CV]  activation=tanh, hidden_layer_sizes=(20,), learning_rate=invscaling, learning_rate_init=0.049406455066093334, solver=adam, score=0.983, total=   0.1s\n",
      "[CV] activation=relu, hidden_layer_sizes=(10, 10), learning_rate=invscaling, learning_rate_init=0.10566133887514345, solver=sgd \n",
      "[CV]  activation=relu, hidden_layer_sizes=(10, 10), learning_rate=invscaling, learning_rate_init=0.10566133887514345, solver=sgd, score=0.161, total=   0.3s\n",
      "[CV] activation=relu, hidden_layer_sizes=(10, 10), learning_rate=invscaling, learning_rate_init=0.10566133887514345, solver=sgd \n",
      "[CV]  activation=relu, hidden_layer_sizes=(10, 10), learning_rate=invscaling, learning_rate_init=0.10566133887514345, solver=sgd, score=0.328, total=   0.3s\n",
      "[CV] activation=relu, hidden_layer_sizes=(10, 10), learning_rate=invscaling, learning_rate_init=0.10566133887514345, solver=sgd \n",
      "[CV]  activation=relu, hidden_layer_sizes=(10, 10), learning_rate=invscaling, learning_rate_init=0.10566133887514345, solver=sgd, score=0.478, total=   0.3s\n",
      "[CV] activation=relu, hidden_layer_sizes=(10, 10), learning_rate=invscaling, learning_rate_init=0.10566133887514345, solver=sgd \n",
      "[CV]  activation=relu, hidden_layer_sizes=(10, 10), learning_rate=invscaling, learning_rate_init=0.10566133887514345, solver=sgd, score=0.307, total=   0.3s\n",
      "[CV] activation=relu, hidden_layer_sizes=(10, 10), learning_rate=invscaling, learning_rate_init=0.10566133887514345, solver=sgd \n",
      "[CV]  activation=relu, hidden_layer_sizes=(10, 10), learning_rate=invscaling, learning_rate_init=0.10566133887514345, solver=sgd, score=0.285, total=   0.3s\n",
      "[CV] activation=relu, hidden_layer_sizes=(15, 5), learning_rate=adaptive, learning_rate_init=0.011386449785238664, solver=sgd \n",
      "[CV]  activation=relu, hidden_layer_sizes=(15, 5), learning_rate=adaptive, learning_rate_init=0.011386449785238664, solver=sgd, score=0.861, total=   0.3s\n",
      "[CV] activation=relu, hidden_layer_sizes=(15, 5), learning_rate=adaptive, learning_rate_init=0.011386449785238664, solver=sgd \n",
      "[CV]  activation=relu, hidden_layer_sizes=(15, 5), learning_rate=adaptive, learning_rate_init=0.011386449785238664, solver=sgd, score=0.928, total=   0.3s\n",
      "[CV] activation=relu, hidden_layer_sizes=(15, 5), learning_rate=adaptive, learning_rate_init=0.011386449785238664, solver=sgd \n",
      "[CV]  activation=relu, hidden_layer_sizes=(15, 5), learning_rate=adaptive, learning_rate_init=0.011386449785238664, solver=sgd, score=0.922, total=   0.3s\n",
      "[CV] activation=relu, hidden_layer_sizes=(15, 5), learning_rate=adaptive, learning_rate_init=0.011386449785238664, solver=sgd \n",
      "[CV]  activation=relu, hidden_layer_sizes=(15, 5), learning_rate=adaptive, learning_rate_init=0.011386449785238664, solver=sgd, score=0.911, total=   0.3s\n",
      "[CV] activation=relu, hidden_layer_sizes=(15, 5), learning_rate=adaptive, learning_rate_init=0.011386449785238664, solver=sgd \n",
      "[CV]  activation=relu, hidden_layer_sizes=(15, 5), learning_rate=adaptive, learning_rate_init=0.011386449785238664, solver=sgd, score=0.911, total=   0.3s\n",
      "[CV] activation=tanh, hidden_layer_sizes=(10, 10), learning_rate=constant, learning_rate_init=0.008766882730061681, solver=adam \n",
      "[CV]  activation=tanh, hidden_layer_sizes=(10, 10), learning_rate=constant, learning_rate_init=0.008766882730061681, solver=adam, score=0.917, total=   0.3s\n",
      "[CV] activation=tanh, hidden_layer_sizes=(10, 10), learning_rate=constant, learning_rate_init=0.008766882730061681, solver=adam \n",
      "[CV]  activation=tanh, hidden_layer_sizes=(10, 10), learning_rate=constant, learning_rate_init=0.008766882730061681, solver=adam, score=0.950, total=   0.3s\n",
      "[CV] activation=tanh, hidden_layer_sizes=(10, 10), learning_rate=constant, learning_rate_init=0.008766882730061681, solver=adam \n",
      "[CV]  activation=tanh, hidden_layer_sizes=(10, 10), learning_rate=constant, learning_rate_init=0.008766882730061681, solver=adam, score=0.944, total=   0.3s\n",
      "[CV] activation=tanh, hidden_layer_sizes=(10, 10), learning_rate=constant, learning_rate_init=0.008766882730061681, solver=adam \n",
      "[CV]  activation=tanh, hidden_layer_sizes=(10, 10), learning_rate=constant, learning_rate_init=0.008766882730061681, solver=adam, score=0.961, total=   0.3s\n",
      "[CV] activation=tanh, hidden_layer_sizes=(10, 10), learning_rate=constant, learning_rate_init=0.008766882730061681, solver=adam \n",
      "[CV]  activation=tanh, hidden_layer_sizes=(10, 10), learning_rate=constant, learning_rate_init=0.008766882730061681, solver=adam, score=0.961, total=   0.3s\n",
      "[CV] activation=tanh, hidden_layer_sizes=(15, 5), learning_rate=invscaling, learning_rate_init=0.006215159714470187, solver=sgd \n",
      "[CV]  activation=tanh, hidden_layer_sizes=(15, 5), learning_rate=invscaling, learning_rate_init=0.006215159714470187, solver=sgd, score=0.178, total=   0.3s\n",
      "[CV] activation=tanh, hidden_layer_sizes=(15, 5), learning_rate=invscaling, learning_rate_init=0.006215159714470187, solver=sgd \n",
      "[CV]  activation=tanh, hidden_layer_sizes=(15, 5), learning_rate=invscaling, learning_rate_init=0.006215159714470187, solver=sgd, score=0.178, total=   0.3s\n",
      "[CV] activation=tanh, hidden_layer_sizes=(15, 5), learning_rate=invscaling, learning_rate_init=0.006215159714470187, solver=sgd \n",
      "[CV]  activation=tanh, hidden_layer_sizes=(15, 5), learning_rate=invscaling, learning_rate_init=0.006215159714470187, solver=sgd, score=0.139, total=   0.3s\n",
      "[CV] activation=tanh, hidden_layer_sizes=(15, 5), learning_rate=invscaling, learning_rate_init=0.006215159714470187, solver=sgd \n",
      "[CV]  activation=tanh, hidden_layer_sizes=(15, 5), learning_rate=invscaling, learning_rate_init=0.006215159714470187, solver=sgd, score=0.145, total=   0.2s\n",
      "[CV] activation=tanh, hidden_layer_sizes=(15, 5), learning_rate=invscaling, learning_rate_init=0.006215159714470187, solver=sgd \n",
      "[CV]  activation=tanh, hidden_layer_sizes=(15, 5), learning_rate=invscaling, learning_rate_init=0.006215159714470187, solver=sgd, score=0.089, total=   0.3s\n",
      "[CV] activation=relu, hidden_layer_sizes=(20,), learning_rate=constant, learning_rate_init=0.27424871822878105, solver=adam \n",
      "[CV]  activation=relu, hidden_layer_sizes=(20,), learning_rate=constant, learning_rate_init=0.27424871822878105, solver=adam, score=0.511, total=   0.1s\n",
      "[CV] activation=relu, hidden_layer_sizes=(20,), learning_rate=constant, learning_rate_init=0.27424871822878105, solver=adam \n",
      "[CV]  activation=relu, hidden_layer_sizes=(20,), learning_rate=constant, learning_rate_init=0.27424871822878105, solver=adam, score=0.817, total=   0.1s\n",
      "[CV] activation=relu, hidden_layer_sizes=(20,), learning_rate=constant, learning_rate_init=0.27424871822878105, solver=adam \n",
      "[CV]  activation=relu, hidden_layer_sizes=(20,), learning_rate=constant, learning_rate_init=0.27424871822878105, solver=adam, score=0.361, total=   0.1s\n",
      "[CV] activation=relu, hidden_layer_sizes=(20,), learning_rate=constant, learning_rate_init=0.27424871822878105, solver=adam \n",
      "[CV]  activation=relu, hidden_layer_sizes=(20,), learning_rate=constant, learning_rate_init=0.27424871822878105, solver=adam, score=0.313, total=   0.1s\n",
      "[CV] activation=relu, hidden_layer_sizes=(20,), learning_rate=constant, learning_rate_init=0.27424871822878105, solver=adam \n",
      "[CV]  activation=relu, hidden_layer_sizes=(20,), learning_rate=constant, learning_rate_init=0.27424871822878105, solver=adam, score=0.788, total=   0.1s\n",
      "[CV] activation=relu, hidden_layer_sizes=(15, 5), learning_rate=adaptive, learning_rate_init=0.12217548326215617, solver=sgd \n",
      "[CV]  activation=relu, hidden_layer_sizes=(15, 5), learning_rate=adaptive, learning_rate_init=0.12217548326215617, solver=sgd, score=0.906, total=   0.3s\n",
      "[CV] activation=relu, hidden_layer_sizes=(15, 5), learning_rate=adaptive, learning_rate_init=0.12217548326215617, solver=sgd \n"
     ]
    },
    {
     "name": "stdout",
     "output_type": "stream",
     "text": [
      "[CV]  activation=relu, hidden_layer_sizes=(15, 5), learning_rate=adaptive, learning_rate_init=0.12217548326215617, solver=sgd, score=0.939, total=   0.3s\n",
      "[CV] activation=relu, hidden_layer_sizes=(15, 5), learning_rate=adaptive, learning_rate_init=0.12217548326215617, solver=sgd \n",
      "[CV]  activation=relu, hidden_layer_sizes=(15, 5), learning_rate=adaptive, learning_rate_init=0.12217548326215617, solver=sgd, score=0.867, total=   0.3s\n",
      "[CV] activation=relu, hidden_layer_sizes=(15, 5), learning_rate=adaptive, learning_rate_init=0.12217548326215617, solver=sgd \n",
      "[CV]  activation=relu, hidden_layer_sizes=(15, 5), learning_rate=adaptive, learning_rate_init=0.12217548326215617, solver=sgd, score=0.855, total=   0.3s\n",
      "[CV] activation=relu, hidden_layer_sizes=(15, 5), learning_rate=adaptive, learning_rate_init=0.12217548326215617, solver=sgd \n",
      "[CV]  activation=relu, hidden_layer_sizes=(15, 5), learning_rate=adaptive, learning_rate_init=0.12217548326215617, solver=sgd, score=0.905, total=   0.3s\n",
      "[CV] activation=relu, hidden_layer_sizes=(10, 10), learning_rate=invscaling, learning_rate_init=0.0034114000122972494, solver=adam \n",
      "[CV]  activation=relu, hidden_layer_sizes=(10, 10), learning_rate=invscaling, learning_rate_init=0.0034114000122972494, solver=adam, score=0.933, total=   0.4s\n",
      "[CV] activation=relu, hidden_layer_sizes=(10, 10), learning_rate=invscaling, learning_rate_init=0.0034114000122972494, solver=adam \n",
      "[CV]  activation=relu, hidden_layer_sizes=(10, 10), learning_rate=invscaling, learning_rate_init=0.0034114000122972494, solver=adam, score=0.928, total=   0.4s\n",
      "[CV] activation=relu, hidden_layer_sizes=(10, 10), learning_rate=invscaling, learning_rate_init=0.0034114000122972494, solver=adam \n",
      "[CV]  activation=relu, hidden_layer_sizes=(10, 10), learning_rate=invscaling, learning_rate_init=0.0034114000122972494, solver=adam, score=0.967, total=   0.4s\n",
      "[CV] activation=relu, hidden_layer_sizes=(10, 10), learning_rate=invscaling, learning_rate_init=0.0034114000122972494, solver=adam \n",
      "[CV]  activation=relu, hidden_layer_sizes=(10, 10), learning_rate=invscaling, learning_rate_init=0.0034114000122972494, solver=adam, score=0.944, total=   0.4s\n",
      "[CV] activation=relu, hidden_layer_sizes=(10, 10), learning_rate=invscaling, learning_rate_init=0.0034114000122972494, solver=adam \n",
      "[CV]  activation=relu, hidden_layer_sizes=(10, 10), learning_rate=invscaling, learning_rate_init=0.0034114000122972494, solver=adam, score=0.944, total=   0.4s\n",
      "[CV] activation=relu, hidden_layer_sizes=(10, 10), learning_rate=invscaling, learning_rate_init=0.0014914673264796083, solver=sgd \n",
      "[CV]  activation=relu, hidden_layer_sizes=(10, 10), learning_rate=invscaling, learning_rate_init=0.0014914673264796083, solver=sgd, score=0.167, total=   0.1s\n",
      "[CV] activation=relu, hidden_layer_sizes=(10, 10), learning_rate=invscaling, learning_rate_init=0.0014914673264796083, solver=sgd \n",
      "[CV]  activation=relu, hidden_layer_sizes=(10, 10), learning_rate=invscaling, learning_rate_init=0.0014914673264796083, solver=sgd, score=0.000, total=   0.1s\n",
      "[CV] activation=relu, hidden_layer_sizes=(10, 10), learning_rate=invscaling, learning_rate_init=0.0014914673264796083, solver=sgd \n",
      "[CV]  activation=relu, hidden_layer_sizes=(10, 10), learning_rate=invscaling, learning_rate_init=0.0014914673264796083, solver=sgd, score=0.094, total=   0.1s\n",
      "[CV] activation=relu, hidden_layer_sizes=(10, 10), learning_rate=invscaling, learning_rate_init=0.0014914673264796083, solver=sgd \n",
      "[CV]  activation=relu, hidden_layer_sizes=(10, 10), learning_rate=invscaling, learning_rate_init=0.0014914673264796083, solver=sgd, score=0.106, total=   0.2s\n",
      "[CV] activation=relu, hidden_layer_sizes=(10, 10), learning_rate=invscaling, learning_rate_init=0.0014914673264796083, solver=sgd \n",
      "[CV]  activation=relu, hidden_layer_sizes=(10, 10), learning_rate=invscaling, learning_rate_init=0.0014914673264796083, solver=sgd, score=0.056, total=   0.1s\n",
      "[CV] activation=relu, hidden_layer_sizes=(10, 10), learning_rate=adaptive, learning_rate_init=0.005304265064351659, solver=adam \n",
      "[CV]  activation=relu, hidden_layer_sizes=(10, 10), learning_rate=adaptive, learning_rate_init=0.005304265064351659, solver=adam, score=0.922, total=   0.4s\n",
      "[CV] activation=relu, hidden_layer_sizes=(10, 10), learning_rate=adaptive, learning_rate_init=0.005304265064351659, solver=adam \n",
      "[CV]  activation=relu, hidden_layer_sizes=(10, 10), learning_rate=adaptive, learning_rate_init=0.005304265064351659, solver=adam, score=0.922, total=   0.4s\n",
      "[CV] activation=relu, hidden_layer_sizes=(10, 10), learning_rate=adaptive, learning_rate_init=0.005304265064351659, solver=adam \n",
      "[CV]  activation=relu, hidden_layer_sizes=(10, 10), learning_rate=adaptive, learning_rate_init=0.005304265064351659, solver=adam, score=0.922, total=   0.4s\n",
      "[CV] activation=relu, hidden_layer_sizes=(10, 10), learning_rate=adaptive, learning_rate_init=0.005304265064351659, solver=adam \n",
      "[CV]  activation=relu, hidden_layer_sizes=(10, 10), learning_rate=adaptive, learning_rate_init=0.005304265064351659, solver=adam, score=0.933, total=   0.4s\n",
      "[CV] activation=relu, hidden_layer_sizes=(10, 10), learning_rate=adaptive, learning_rate_init=0.005304265064351659, solver=adam \n",
      "[CV]  activation=relu, hidden_layer_sizes=(10, 10), learning_rate=adaptive, learning_rate_init=0.005304265064351659, solver=adam, score=0.955, total=   0.4s\n",
      "[CV] activation=tanh, hidden_layer_sizes=(15, 5), learning_rate=invscaling, learning_rate_init=0.01289677208820277, solver=sgd \n",
      "[CV]  activation=tanh, hidden_layer_sizes=(15, 5), learning_rate=invscaling, learning_rate_init=0.01289677208820277, solver=sgd, score=0.289, total=   0.4s\n",
      "[CV] activation=tanh, hidden_layer_sizes=(15, 5), learning_rate=invscaling, learning_rate_init=0.01289677208820277, solver=sgd \n",
      "[CV]  activation=tanh, hidden_layer_sizes=(15, 5), learning_rate=invscaling, learning_rate_init=0.01289677208820277, solver=sgd, score=0.056, total=   0.4s\n",
      "[CV] activation=tanh, hidden_layer_sizes=(15, 5), learning_rate=invscaling, learning_rate_init=0.01289677208820277, solver=sgd \n",
      "[CV]  activation=tanh, hidden_layer_sizes=(15, 5), learning_rate=invscaling, learning_rate_init=0.01289677208820277, solver=sgd, score=0.194, total=   0.3s\n",
      "[CV] activation=tanh, hidden_layer_sizes=(15, 5), learning_rate=invscaling, learning_rate_init=0.01289677208820277, solver=sgd \n",
      "[CV]  activation=tanh, hidden_layer_sizes=(15, 5), learning_rate=invscaling, learning_rate_init=0.01289677208820277, solver=sgd, score=0.145, total=   0.3s\n",
      "[CV] activation=tanh, hidden_layer_sizes=(15, 5), learning_rate=invscaling, learning_rate_init=0.01289677208820277, solver=sgd \n",
      "[CV]  activation=tanh, hidden_layer_sizes=(15, 5), learning_rate=invscaling, learning_rate_init=0.01289677208820277, solver=sgd, score=0.201, total=   0.3s\n",
      "[CV] activation=tanh, hidden_layer_sizes=(20,), learning_rate=adaptive, learning_rate_init=0.0062777087366207695, solver=sgd \n",
      "[CV]  activation=tanh, hidden_layer_sizes=(20,), learning_rate=adaptive, learning_rate_init=0.0062777087366207695, solver=sgd, score=0.944, total=   0.3s\n",
      "[CV] activation=tanh, hidden_layer_sizes=(20,), learning_rate=adaptive, learning_rate_init=0.0062777087366207695, solver=sgd \n",
      "[CV]  activation=tanh, hidden_layer_sizes=(20,), learning_rate=adaptive, learning_rate_init=0.0062777087366207695, solver=sgd, score=0.961, total=   0.3s\n",
      "[CV] activation=tanh, hidden_layer_sizes=(20,), learning_rate=adaptive, learning_rate_init=0.0062777087366207695, solver=sgd \n",
      "[CV]  activation=tanh, hidden_layer_sizes=(20,), learning_rate=adaptive, learning_rate_init=0.0062777087366207695, solver=sgd, score=0.944, total=   0.3s\n",
      "[CV] activation=tanh, hidden_layer_sizes=(20,), learning_rate=adaptive, learning_rate_init=0.0062777087366207695, solver=sgd \n",
      "[CV]  activation=tanh, hidden_layer_sizes=(20,), learning_rate=adaptive, learning_rate_init=0.0062777087366207695, solver=sgd, score=0.961, total=   0.3s\n",
      "[CV] activation=tanh, hidden_layer_sizes=(20,), learning_rate=adaptive, learning_rate_init=0.0062777087366207695, solver=sgd \n",
      "[CV]  activation=tanh, hidden_layer_sizes=(20,), learning_rate=adaptive, learning_rate_init=0.0062777087366207695, solver=sgd, score=0.944, total=   0.3s\n",
      "[CV] activation=tanh, hidden_layer_sizes=(10, 10), learning_rate=adaptive, learning_rate_init=0.07344157582914297, solver=sgd \n"
     ]
    },
    {
     "name": "stdout",
     "output_type": "stream",
     "text": [
      "[CV]  activation=tanh, hidden_layer_sizes=(10, 10), learning_rate=adaptive, learning_rate_init=0.07344157582914297, solver=sgd, score=0.928, total=   0.3s\n",
      "[CV] activation=tanh, hidden_layer_sizes=(10, 10), learning_rate=adaptive, learning_rate_init=0.07344157582914297, solver=sgd \n",
      "[CV]  activation=tanh, hidden_layer_sizes=(10, 10), learning_rate=adaptive, learning_rate_init=0.07344157582914297, solver=sgd, score=0.933, total=   0.3s\n",
      "[CV] activation=tanh, hidden_layer_sizes=(10, 10), learning_rate=adaptive, learning_rate_init=0.07344157582914297, solver=sgd \n",
      "[CV]  activation=tanh, hidden_layer_sizes=(10, 10), learning_rate=adaptive, learning_rate_init=0.07344157582914297, solver=sgd, score=0.928, total=   0.4s\n",
      "[CV] activation=tanh, hidden_layer_sizes=(10, 10), learning_rate=adaptive, learning_rate_init=0.07344157582914297, solver=sgd \n",
      "[CV]  activation=tanh, hidden_layer_sizes=(10, 10), learning_rate=adaptive, learning_rate_init=0.07344157582914297, solver=sgd, score=0.972, total=   0.3s\n",
      "[CV] activation=tanh, hidden_layer_sizes=(10, 10), learning_rate=adaptive, learning_rate_init=0.07344157582914297, solver=sgd \n",
      "[CV]  activation=tanh, hidden_layer_sizes=(10, 10), learning_rate=adaptive, learning_rate_init=0.07344157582914297, solver=sgd, score=0.966, total=   0.4s\n",
      "[CV] activation=tanh, hidden_layer_sizes=(10, 10), learning_rate=adaptive, learning_rate_init=0.005059376216911473, solver=sgd \n",
      "[CV]  activation=tanh, hidden_layer_sizes=(10, 10), learning_rate=adaptive, learning_rate_init=0.005059376216911473, solver=sgd, score=0.939, total=   0.4s\n",
      "[CV] activation=tanh, hidden_layer_sizes=(10, 10), learning_rate=adaptive, learning_rate_init=0.005059376216911473, solver=sgd \n",
      "[CV]  activation=tanh, hidden_layer_sizes=(10, 10), learning_rate=adaptive, learning_rate_init=0.005059376216911473, solver=sgd, score=0.911, total=   0.3s\n",
      "[CV] activation=tanh, hidden_layer_sizes=(10, 10), learning_rate=adaptive, learning_rate_init=0.005059376216911473, solver=sgd \n",
      "[CV]  activation=tanh, hidden_layer_sizes=(10, 10), learning_rate=adaptive, learning_rate_init=0.005059376216911473, solver=sgd, score=0.950, total=   0.3s\n",
      "[CV] activation=tanh, hidden_layer_sizes=(10, 10), learning_rate=adaptive, learning_rate_init=0.005059376216911473, solver=sgd \n",
      "[CV]  activation=tanh, hidden_layer_sizes=(10, 10), learning_rate=adaptive, learning_rate_init=0.005059376216911473, solver=sgd, score=0.911, total=   0.3s\n",
      "[CV] activation=tanh, hidden_layer_sizes=(10, 10), learning_rate=adaptive, learning_rate_init=0.005059376216911473, solver=sgd \n",
      "[CV]  activation=tanh, hidden_layer_sizes=(10, 10), learning_rate=adaptive, learning_rate_init=0.005059376216911473, solver=sgd, score=0.916, total=   0.3s\n",
      "RandomSearchCV took 27.46 seconds for 20 candidate parameter settings.\n",
      "Model with rank: 1\n",
      "Mean validation score: 0.971 (std: 0.010)\n",
      "Parameters: {'activation': 'tanh', 'hidden_layer_sizes': (20,), 'learning_rate': 'invscaling', 'learning_rate_init': 0.049406455066093334, 'solver': 'adam'}\n",
      "\n",
      "Model with rank: 2\n",
      "Mean validation score: 0.951 (std: 0.008)\n",
      "Parameters: {'activation': 'tanh', 'hidden_layer_sizes': (20,), 'learning_rate': 'adaptive', 'learning_rate_init': 0.0062777087366207695, 'solver': 'sgd'}\n",
      "\n",
      "Model with rank: 3\n",
      "Mean validation score: 0.947 (std: 0.016)\n",
      "Parameters: {'activation': 'tanh', 'hidden_layer_sizes': (10, 10), 'learning_rate': 'constant', 'learning_rate_init': 0.008766882730061681, 'solver': 'adam'}\n",
      "\n",
      "Model with rank: 4\n",
      "Mean validation score: 0.945 (std: 0.020)\n",
      "Parameters: {'activation': 'tanh', 'hidden_layer_sizes': (10, 10), 'learning_rate': 'adaptive', 'learning_rate_init': 0.07344157582914297, 'solver': 'sgd'}\n",
      "\n",
      "Model with rank: 5\n",
      "Mean validation score: 0.943 (std: 0.013)\n",
      "Parameters: {'activation': 'relu', 'hidden_layer_sizes': (10, 10), 'learning_rate': 'invscaling', 'learning_rate_init': 0.0034114000122972494, 'solver': 'adam'}\n",
      "\n"
     ]
    },
    {
     "name": "stderr",
     "output_type": "stream",
     "text": [
      "[Parallel(n_jobs=1)]: Done 100 out of 100 | elapsed:   27.3s finished\n"
     ]
    }
   ],
   "source": [
    "import numpy as np\n",
    "from time import time\n",
    "import scipy.stats as stats\n",
    "from sklearn.utils.fixes import loguniform\n",
    "from sklearn.model_selection import RandomizedSearchCV\n",
    "\n",
    "random_dist = {'hidden_layer_sizes': [(20, ), (10, 10), (15, 5)],\n",
    "               'solver': ['sgd', 'adam'],\n",
    "               'learning_rate': ['constant', 'invscaling', 'adaptive'],\n",
    "               'learning_rate_init': loguniform(1e-3, 1e0),\n",
    "               'activation': ['tanh', 'relu']}\n",
    "\n",
    "# run grid search\n",
    "mlp = MLPClassifier()\n",
    "random_search = RandomizedSearchCV(\n",
    "    mlp, random_dist, n_iter=20, cv=5, verbose=3)\n",
    "start = time()\n",
    "random_search.fit(X_all, y_all)\n",
    "\n",
    "print(\"RandomSearchCV took %.2f seconds for %d candidate parameter settings.\"\n",
    "      % (time() - start, len(random_search.cv_results_['params'])))\n",
    "report(random_search.cv_results_)"
   ]
  },
  {
   "cell_type": "code",
   "execution_count": 13,
   "metadata": {},
   "outputs": [
    {
     "name": "stdout",
     "output_type": "stream",
     "text": [
      "Test set score: 0.975528\n"
     ]
    }
   ],
   "source": [
    "print(\"Test set score: %f\" % random_search.score(X_test, y_test))"
   ]
  },
  {
   "cell_type": "markdown",
   "metadata": {},
   "source": [
    "<div class=\"alert alert-warning\"><p>\n",
    "\n",
    "**Exercise**: Use GridSearchCV to search for the hyperparameters. Which search strategy is better, GridSearch or RandomSearch?"
   ]
  },
  {
   "cell_type": "markdown",
   "metadata": {},
   "source": [
    "## More about Model Evaluation\n",
    "\n",
    "This measures how the model performs on unseen data (test set)"
   ]
  },
  {
   "cell_type": "markdown",
   "metadata": {},
   "source": [
    "### Accuracy = $\\frac{TP+TN}{TP+FN+TN+FP}$  \n",
    "\n",
    "### precision = $\\frac{TP}{TP+FP}$  \n",
    "\n",
    "### recall = $\\frac{TP}{TP+FN}$\n",
    "\n",
    "### F1_score =$\\frac{2 \\times precision \\times recall}{precision + recall}$"
   ]
  },
  {
   "cell_type": "markdown",
   "metadata": {},
   "source": [
    "<div class=\"alert alert-info\"><p>\n",
    "\n",
    "  -  ``metrics.classification_report`` - Prints a nice classification report on precision, recall and f1-score\n",
    "  -  ``metrics.plot_confusion_matrix`` - Prints a confusion matrix"
   ]
  },
  {
   "cell_type": "code",
   "execution_count": 14,
   "metadata": {},
   "outputs": [
    {
     "name": "stdout",
     "output_type": "stream",
     "text": [
      "Classification report for classifier MLPClassifier(activation='tanh', alpha=0.0001, batch_size='auto', beta_1=0.9,\n",
      "              beta_2=0.999, early_stopping=False, epsilon=1e-08,\n",
      "              hidden_layer_sizes=(20,), learning_rate='invscaling',\n",
      "              learning_rate_init=0.049406455066093334, max_fun=15000,\n",
      "              max_iter=200, momentum=0.9, n_iter_no_change=10,\n",
      "              nesterovs_momentum=True, power_t=0.5, random_state=None,\n",
      "              shuffle=True, solver='adam', tol=0.0001, validation_fraction=0.1,\n",
      "              verbose=False, warm_start=False):\n",
      "              precision    recall  f1-score   support\n",
      "\n",
      "           0       0.99      0.98      0.98        91\n",
      "           1       0.95      0.94      0.95        89\n",
      "           2       1.00      1.00      1.00        88\n",
      "           3       0.99      1.00      0.99        87\n",
      "           4       0.95      0.99      0.97        92\n",
      "           5       1.00      0.93      0.97        90\n",
      "           6       0.99      0.98      0.98        98\n",
      "           7       0.98      1.00      0.99        91\n",
      "           8       0.95      0.96      0.96        85\n",
      "           9       0.96      0.97      0.96        88\n",
      "\n",
      "    accuracy                           0.98       899\n",
      "   macro avg       0.98      0.98      0.98       899\n",
      "weighted avg       0.98      0.98      0.98       899\n",
      "\n",
      "\n",
      "Confusion matrix:\n",
      "[[89  0  0  0  2  0  0  0  0  0]\n",
      " [ 0 84  0  0  1  0  0  0  1  3]\n",
      " [ 0  0 88  0  0  0  0  0  0  0]\n",
      " [ 0  0  0 87  0  0  0  0  0  0]\n",
      " [ 0  0  0  0 91  0  0  0  1  0]\n",
      " [ 0  1  0  1  1 84  1  1  0  1]\n",
      " [ 1  0  0  0  1  0 96  0  0  0]\n",
      " [ 0  0  0  0  0  0  0 91  0  0]\n",
      " [ 0  3  0  0  0  0  0  0 82  0]\n",
      " [ 0  0  0  0  0  0  0  1  2 85]]\n"
     ]
    },
    {
     "data": {
      "image/png": "[encoded data removed]",
      "text/plain": [
       "<Figure size 432x288 with 2 Axes>"
      ]
     },
     "metadata": {
      "needs_background": "light"
     },
     "output_type": "display_data"
    }
   ],
   "source": [
    "from sklearn.metrics import classification_report, plot_confusion_matrix\n",
    "\n",
    "predicted = random_search.predict(X_test)\n",
    "\n",
    "print(\"Classification report for classifier %s:\\n%s\\n\"\n",
    "      % (random_search.best_estimator_, classification_report(y_test, predicted)))\n",
    "\n",
    "disp = plot_confusion_matrix(random_search, X_test, y_test)\n",
    "disp.figure_.suptitle(\"Confusion Matrix\")\n",
    "print(\"Confusion matrix:\\n%s\" % disp.confusion_matrix)"
   ]
  },
  {
   "cell_type": "markdown",
   "metadata": {},
   "source": [
    "<div class=\"alert alert-warning\"><p>\n",
    "\n",
    "**Exercise**: There are other useful plots for model evaluation, such as ``sklearn.metrics.auc`` and ``sklearn.metrics.precision_recall_curve``. Try to draw the auc and precision recall curve for your model. "
   ]
  },
  {
   "cell_type": "markdown",
   "metadata": {},
   "source": [
    "## Saving and Loading your Model"
   ]
  },
  {
   "cell_type": "code",
   "execution_count": 15,
   "metadata": {},
   "outputs": [
    {
     "name": "stdout",
     "output_type": "stream",
     "text": [
      "0.9755283648498332\n"
     ]
    }
   ],
   "source": [
    "import pickle\n",
    "\n",
    "filename = 'mlp_model.sav'\n",
    "\n",
    "# save model to disk\n",
    "pickle.dump(random_search, open(filename, 'wb'))\n",
    " \n",
    "# load the model from disk\n",
    "loaded_model = pickle.load(open(filename, 'rb'))\n",
    "result = loaded_model.score(X_test, y_test)\n",
    "print(result)"
   ]
  },
  {
   "cell_type": "code",
   "execution_count": 16,
   "metadata": {},
   "outputs": [
    {
     "data": {
      "image/png": "[encoded data removed]",
      "text/plain": [
       "<Figure size 432x288 with 4 Axes>"
      ]
     },
     "metadata": {
      "needs_background": "light"
     },
     "output_type": "display_data"
    }
   ],
   "source": [
    "# Now predict the value of the digit on test set:\n",
    "predicted = loaded_model.predict(X_test)\n",
    "\n",
    "images_and_predictions = list(zip(X_test, predicted))\n",
    "selected = [images_and_predictions[i] for i in [22, 5, 7, 35]]\n",
    "for index, (image, label) in enumerate(selected):\n",
    "    plt.subplot(2, 4, index + 1)\n",
    "    plt.axis('off')\n",
    "    image = image.reshape((8,8))\n",
    "    plt.imshow(image, cmap=plt.cm.gray_r, interpolation='nearest')\n",
    "    plt.title('Prediction: %i' % label)\n",
    "plt.show()"
   ]
  },
  {
   "cell_type": "markdown",
   "metadata": {},
   "source": [
    "<div class=\"alert alert-warning\"><p>\n",
    "\n",
    "## Summary\n",
    "- Build a preceptron model\n",
    "- Build a multilayer preceptron model\n",
    "- Spliting data into train, validation and test\n",
    "- Tune the hyperparameters using RandomSearch\n",
    "- Model Saving and Loading\n",
    "\n",
    "## Limitations\n",
    "The sklearn MLP model has clear limitations: custom loss function, layer architecture, activation functions, checkpointing, CNN, RNN, etc., which make it not scalable to large deep neural network. In the next lectures, we will introduce a more comprehensive framework - PyTorch for deep learning problems."
   ]
  },
  {
   "cell_type": "markdown",
   "metadata": {},
   "source": [
    "## Popular ML Frameworks\n",
    "\n",
    "![Image](./img/ml.png)"
   ]
  },
  {
   "cell_type": "code",
   "execution_count": null,
   "metadata": {},
   "outputs": [],
   "source": []
  }
 ],
 "metadata": {
  "kernelspec": {
   "display_name": "Python 3",
   "language": "python",
   "name": "python3"
  },
  "language_info": {
   "codemirror_mode": {
    "name": "ipython",
    "version": 3
   },
   "file_extension": ".py",
   "mimetype": "text/x-python",
   "name": "python",
   "nbconvert_exporter": "python",
   "pygments_lexer": "ipython3",
   "version": "3.7.6"
  },
  "varInspector": {
   "cols": {
    "lenName": 16,
    "lenType": 16,
    "lenVar": 40
   },
   "kernels_config": {
    "python": {
     "delete_cmd_postfix": "",
     "delete_cmd_prefix": "del ",
     "library": "var_list.py",
     "varRefreshCmd": "print(var_dic_list())"
    },
    "r": {
     "delete_cmd_postfix": ") ",
     "delete_cmd_prefix": "rm(",
     "library": "var_list.r",
     "varRefreshCmd": "cat(var_dic_list()) "
    }
   },
   "position": {
    "height": "263px",
    "left": "1241px",
    "right": "20px",
    "top": "136px",
    "width": "280px"
   },
   "types_to_exclude": [
    "module",
    "function",
    "builtin_function_or_method",
    "instance",
    "_Feature"
   ],
   "window_display": false
  }
 },
 "nbformat": 4,
 "nbformat_minor": 2
}
