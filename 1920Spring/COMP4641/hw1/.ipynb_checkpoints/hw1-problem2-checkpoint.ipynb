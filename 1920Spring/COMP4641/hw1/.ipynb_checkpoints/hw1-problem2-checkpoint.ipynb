{
 "cells": [
  {
   "cell_type": "code",
   "execution_count": 181,
   "metadata": {},
   "outputs": [],
   "source": [
    "import networkx as nx\n",
    "import numpy as np\n",
    "import matplotlib.pyplot as plt\n",
    "import pylab\n",
    "%matplotlib inline"
   ]
  },
  {
   "cell_type": "code",
   "execution_count": 182,
   "metadata": {},
   "outputs": [
    {
     "name": "stdout",
     "output_type": "stream",
     "text": [
      "['1', '2', '4', '3', '5', '6', '7'] \n",
      " [('1', '2'), ('1', '4'), ('2', '3'), ('2', '4'), ('4', '3'), ('4', '5'), ('5', '6'), ('5', '7'), ('6', '7')] \n",
      " [('1', 2), ('2', 3), ('4', 4), ('3', 2), ('5', 3), ('6', 2), ('7', 2)]\n"
     ]
    }
   ],
   "source": [
    "G = nx.Graph()\n",
    "G.add_edges_from([('1','2'),('1','4'),('2','3'),('2','4'),('3','4'),('4','5'),('5','6'),('5','7'),('6','7')])  # create the graph \n",
    "print(G.nodes(), '\\n', G.edges(), '\\n', G.degree())  # check graph is correct"
   ]
  },
  {
   "cell_type": "code",
   "execution_count": 183,
   "metadata": {},
   "outputs": [
    {
     "name": "stdout",
     "output_type": "stream",
     "text": [
      "[('1', 2), ('2', 3), ('4', 4), ('3', 2), ('5', 3), ('6', 2), ('7', 2)]\n",
      "  (0, 1)\t1\n",
      "  (0, 2)\t1\n",
      "  (1, 0)\t1\n",
      "  (1, 2)\t1\n",
      "  (1, 3)\t1\n",
      "  (2, 0)\t1\n",
      "  (2, 1)\t1\n",
      "  (2, 3)\t1\n",
      "  (2, 4)\t1\n",
      "  (3, 1)\t1\n",
      "  (3, 2)\t1\n",
      "  (4, 2)\t1\n",
      "  (4, 5)\t1\n",
      "  (4, 6)\t1\n",
      "  (5, 4)\t1\n",
      "  (5, 6)\t1\n",
      "  (6, 4)\t1\n",
      "  (6, 5)\t1\n",
      "adjency matrix: \n",
      " [[0 1 1 0 0 0 0]\n",
      " [1 0 1 1 0 0 0]\n",
      " [1 1 0 1 1 0 0]\n",
      " [0 1 1 0 0 0 0]\n",
      " [0 0 1 0 0 1 1]\n",
      " [0 0 0 0 1 0 1]\n",
      " [0 0 0 0 1 1 0]]\n",
      "modularity matrix: \n",
      " [[-0.22222222  0.66666667  0.55555556 -0.22222222 -0.33333333 -0.22222222\n",
      "  -0.22222222]\n",
      " [ 0.66666667 -0.5         0.33333333  0.66666667 -0.5        -0.33333333\n",
      "  -0.33333333]\n",
      " [ 0.55555556  0.33333333 -0.88888889  0.55555556  0.33333333 -0.44444444\n",
      "  -0.44444444]\n",
      " [-0.22222222  0.66666667  0.55555556 -0.22222222 -0.33333333 -0.22222222\n",
      "  -0.22222222]\n",
      " [-0.33333333 -0.5         0.33333333 -0.33333333 -0.5         0.66666667\n",
      "   0.66666667]\n",
      " [-0.22222222 -0.33333333 -0.44444444 -0.22222222  0.66666667 -0.22222222\n",
      "   0.77777778]\n",
      " [-0.22222222 -0.33333333 -0.44444444 -0.22222222  0.66666667  0.77777778\n",
      "  -0.22222222]]\n",
      "\n",
      " optimal community membership: \n",
      " [[0 1]\n",
      " [0 1]\n",
      " [0 1]\n",
      " [0 1]\n",
      " [1 0]\n",
      " [1 0]\n",
      " [1 0]] \n",
      " corresponds to maximum modularity value:\n",
      " 0.3641975308641976\n"
     ]
    }
   ],
   "source": [
    "print(nx.degree(G))\n",
    "adj = nx.adj_matrix(G)\n",
    "print(adj)\n",
    "print(\"adjency matrix: \\n\", adj.todense()) # print adjency matrix\n",
    "\n",
    "G_degree = np.sum(adj, axis=1)\n",
    "k_ij = np.outer(G_degree, G_degree)\n",
    "\n",
    "mod = adj - k_ij / (2.*len(G.edges()))\n",
    "print(\"modularity matrix: \\n\", mod)\n",
    "\n",
    "# suppose we only have 2 communities, we can iterate all the possible situations and get the optimum partition\n",
    "modval_opt = -100000\n",
    "z_opt = np.zeros((len(G.nodes()), 2))\n",
    "\n",
    "for i in range(0, 2**(len(G.nodes())-1)):   # iterate all the possible membership\n",
    "\n",
    "    partition = np.matrix(list(map(int, list('{0:07b}'.format(i)))))    # get a membership vector directly from the bits of an interger\n",
    "                                                                        # e.g. i = 2, list('{0:07b}'.format(i)) will give a list \n",
    "                                                                        # ['0', '0', '0', '0', '0','1','0']\n",
    "                                                                        # map(int, list) will change it to be a int list [..., 1, 0]\n",
    "    Z = np.transpose(np.concatenate((partition, 1-partition)))          # this is a 7x2 membership matrix\n",
    "    modval_partition = np.trace(Z.transpose() * mod * Z) / (2*len(G.edges()))\n",
    "    if modval_opt < modval_partition:\n",
    "        modval_opt = modval_partition\n",
    "        z_opt = Z\n",
    "        \n",
    "print(\"\\n optimal community membership: \\n\", z_opt, \"\\n corresponds to maximum modularity value:\\n\", modval_opt)\n"
   ]
  },
  {
   "cell_type": "code",
   "execution_count": 17,
   "metadata": {},
   "outputs": [
    {
     "data": {
      "image/png": "[encoded data removed]",
      "text/plain": [
       "<Figure size 576x432 with 1 Axes>"
      ]
     },
     "metadata": {},
     "output_type": "display_data"
    }
   ],
   "source": [
    "# print the graph with community in different color and node size propotional to its degree\n",
    "\n",
    "plt.figure(figsize=(8,6))\n",
    "pos = nx.spring_layout(G)\n",
    "nx.draw_networkx_nodes(G, pos, node_color=np.array(z_opt.transpose())[0], \n",
    "                       node_size=400*np.array(G_degree), alpha=0.8, linewidths=0)\n",
    "labels = {}\n",
    "for node in G.nodes():\n",
    "    labels[node] = r'$'+node+'$'\n",
    "    \n",
    "nx.draw_networkx_labels(G, pos, labels, font_size=24)\n",
    "nx.draw_networkx_edges(G, pos, width=16, edge_color='g', alpha=0.5)\n",
    "\n",
    "plt.axis('off')\n",
    "plt.show()"
   ]
  },
  {
   "cell_type": "code",
   "execution_count": 104,
   "metadata": {},
   "outputs": [],
   "source": [
    "import networkx as nx\n",
    "import numpy as np\n",
    "from copy import deepcopy"
   ]
  },
  {
   "cell_type": "code",
   "execution_count": 115,
   "metadata": {},
   "outputs": [
    {
     "name": "stdout",
     "output_type": "stream",
     "text": [
      "[[0 1 1 1 0 0 0 0 0]\n",
      " [1 0 1 1 0 0 0 0 0]\n",
      " [1 1 0 1 0 0 0 0 0]\n",
      " [1 1 1 0 1 0 0 0 0]\n",
      " [0 0 0 1 0 1 0 0 0]\n",
      " [0 0 0 0 1 0 1 1 1]\n",
      " [0 0 0 0 0 1 0 1 1]\n",
      " [0 0 0 0 0 1 1 0 1]\n",
      " [0 0 0 0 0 1 1 1 0]]\n"
     ]
    }
   ],
   "source": [
    "# read data from input.txt\n",
    "\n",
    "filename = 'input.txt'\n",
    "f = open(filename, 'r')\n",
    "node_num = int(next(f))\n",
    "matrix = np.array([[int(x) for x in line.split()] for line in f])\n",
    "f.close\n",
    "print(matrix)"
   ]
  },
  {
   "cell_type": "code",
   "execution_count": null,
   "metadata": {},
   "outputs": [],
   "source": [
    "# Problem 3a\n",
    "\n",
    "G = nx.from_numpy_matrix(matrix)\n",
    "ans = []\n",
    "\n",
    "while len(ans[-1] if len(ans) > 0 else ans) != node_num-1:\n",
    "    edge_btwns = nx.edge_betweenness_centrality(G)\n",
    "    sorted_edge_btwns = {edge: btwns for edge, btwns in sorted(edge_btwns.items(), key=lambda edge: edge[1], reverse=True)}\n",
    "    sorted_edge_btwns = list(sorted_edge_btwns.items())\n",
    "\n",
    "    highest = sorted_edge_btwns[0][1]\n",
    "    while len(sorted_edge_btwns) > 0 and sorted_edge_btwns[0][1] == highest:\n",
    "        edge, _ = sorted_edge_btwns.pop(0)\n",
    "        G.remove_edge(*edge)\n",
    "    ans.append(list(nx.connected_components(G)))\n",
    "    Gs.append(deepcopy(G))\n",
    "    if len(sorted_edge_btwns) == 0:\n",
    "        break\n",
    "    \n",
    "for i, result in enumerate(ans):\n",
    "    print(list[map(lambda comm: sorted(comm), [list(comm) for comm in result])])\n",
    "    \n",
    "ans = list(map(lambda result: sorted(result, key=len, reverse=True), ans))\n",
    "for result in ans:\n",
    "    print(tuple([list(component) for component in result]))\n",
    "    \n",
    "ans"
   ]
  },
  {
   "cell_type": "code",
   "execution_count": 201,
   "metadata": {},
   "outputs": [
    {
     "name": "stdout",
     "output_type": "stream",
     "text": [
      "3 clusters: modularity 0.4209\n",
      "9 clusters: modularity -0.1148\n",
      "optimal structure:  ([0, 1, 2, 3], [8, 5, 6, 7], [4])\n"
     ]
    }
   ],
   "source": [
    "modval_opt = -100000\n",
    "G_opt = None\n",
    "\n",
    "G = nx.from_numpy_matrix(matrix)\n",
    "adj_matrix = nx.adj_matrix(G)\n",
    "\n",
    "G_degree = np.sum(adj_matrix, axis=1)\n",
    "k_ij = np.outer(G_degree, G_degree)\n",
    "\n",
    "mod = adj_matrix - k_ij / (2.*len(G.edges()))\n",
    "    \n",
    "for comms in ans:    \n",
    "    Z = np.zeros((len(comms), node_num), dtype=np.float32)\n",
    "    for i, comm in enumerate(comms):\n",
    "        np.put(Z[i], np.array(list(comm)), 1)\n",
    "    \n",
    "    modval_partition = np.trace(Z * mod * Z.T) / (2*len(G.edges()))\n",
    "    \n",
    "    print('%d clusters: modularity %.4f' % (len(comms), modval_partition))\n",
    "    if modval_opt < modval_partition:\n",
    "        modval_opt = modval_partition\n",
    "        G_opt = [list(component) for component in comms]\n",
    "\n",
    "print(\"optimal structure: \", tuple(G_opt))\n"
   ]
  },
  {
   "cell_type": "code",
   "execution_count": null,
   "metadata": {},
   "outputs": [],
   "source": []
  }
 ],
 "metadata": {
  "kernelspec": {
   "display_name": "Python 3",
   "language": "python",
   "name": "python3"
  },
  "language_info": {
   "codemirror_mode": {
    "name": "ipython",
    "version": 3
   },
   "file_extension": ".py",
   "mimetype": "text/x-python",
   "name": "python",
   "nbconvert_exporter": "python",
   "pygments_lexer": "ipython3",
   "version": "3.6.10"
  }
 },
 "nbformat": 4,
 "nbformat_minor": 1
}
